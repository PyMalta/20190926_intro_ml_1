{
 "cells": [
  {
   "cell_type": "code",
   "execution_count": 1,
   "metadata": {
    "ExecuteTime": {
     "end_time": "2019-08-23T12:46:41.555326Z",
     "start_time": "2019-08-23T12:46:39.123027Z"
    }
   },
   "outputs": [],
   "source": [
    "import numpy as np\n",
    "import pandas as pd\n",
    "import matplotlib.pyplot as plt\n",
    "import seaborn as sns\n",
    "import matplotlib\n",
    "from sklearn import metrics\n",
    "# pip install graphviz\n",
    "# conda install python-graphviz"
   ]
  },
  {
   "cell_type": "code",
   "execution_count": 2,
   "metadata": {
    "ExecuteTime": {
     "end_time": "2019-08-23T12:46:41.559851Z",
     "start_time": "2019-08-23T12:46:41.556933Z"
    }
   },
   "outputs": [],
   "source": [
    "matplotlib.rcParams.update({'font.size': 18,\n",
    "                           'lines.linewidth' : 3,\n",
    "                           'figure.figsize' : [15, 5],\n",
    "                           'lines.markersize': 10})\n",
    "pd.options.mode.chained_assignment = None\n"
   ]
  },
  {
   "cell_type": "markdown",
   "metadata": {},
   "source": [
    "# Load our data"
   ]
  },
  {
   "cell_type": "code",
   "execution_count": 3,
   "metadata": {
    "ExecuteTime": {
     "end_time": "2019-08-23T12:46:41.571474Z",
     "start_time": "2019-08-23T12:46:41.561829Z"
    }
   },
   "outputs": [],
   "source": [
    "df_titanic = pd.read_csv('./00_data/titanic.csv')"
   ]
  },
  {
   "cell_type": "code",
   "execution_count": 4,
   "metadata": {
    "ExecuteTime": {
     "end_time": "2019-08-23T12:46:42.837951Z",
     "start_time": "2019-08-23T12:46:42.822718Z"
    }
   },
   "outputs": [
    {
     "data": {
      "text/html": [
       "<div>\n",
       "<style scoped>\n",
       "    .dataframe tbody tr th:only-of-type {\n",
       "        vertical-align: middle;\n",
       "    }\n",
       "\n",
       "    .dataframe tbody tr th {\n",
       "        vertical-align: top;\n",
       "    }\n",
       "\n",
       "    .dataframe thead th {\n",
       "        text-align: right;\n",
       "    }\n",
       "</style>\n",
       "<table border=\"1\" class=\"dataframe\">\n",
       "  <thead>\n",
       "    <tr style=\"text-align: right;\">\n",
       "      <th></th>\n",
       "      <th>PassengerId</th>\n",
       "      <th>Survived</th>\n",
       "      <th>Pclass</th>\n",
       "      <th>Name</th>\n",
       "      <th>Sex</th>\n",
       "      <th>Age</th>\n",
       "      <th>SibSp</th>\n",
       "      <th>Parch</th>\n",
       "      <th>Ticket</th>\n",
       "      <th>Fare</th>\n",
       "      <th>Cabin</th>\n",
       "      <th>Embarked</th>\n",
       "    </tr>\n",
       "  </thead>\n",
       "  <tbody>\n",
       "    <tr>\n",
       "      <th>0</th>\n",
       "      <td>1</td>\n",
       "      <td>0</td>\n",
       "      <td>3</td>\n",
       "      <td>Braund, Mr. Owen Harris</td>\n",
       "      <td>male</td>\n",
       "      <td>22.0</td>\n",
       "      <td>1</td>\n",
       "      <td>0</td>\n",
       "      <td>A/5 21171</td>\n",
       "      <td>7.2500</td>\n",
       "      <td>NaN</td>\n",
       "      <td>S</td>\n",
       "    </tr>\n",
       "    <tr>\n",
       "      <th>1</th>\n",
       "      <td>2</td>\n",
       "      <td>1</td>\n",
       "      <td>1</td>\n",
       "      <td>Cumings, Mrs. John Bradley (Florence Briggs Th...</td>\n",
       "      <td>female</td>\n",
       "      <td>38.0</td>\n",
       "      <td>1</td>\n",
       "      <td>0</td>\n",
       "      <td>PC 17599</td>\n",
       "      <td>71.2833</td>\n",
       "      <td>C85</td>\n",
       "      <td>C</td>\n",
       "    </tr>\n",
       "    <tr>\n",
       "      <th>2</th>\n",
       "      <td>3</td>\n",
       "      <td>1</td>\n",
       "      <td>3</td>\n",
       "      <td>Heikkinen, Miss. Laina</td>\n",
       "      <td>female</td>\n",
       "      <td>26.0</td>\n",
       "      <td>0</td>\n",
       "      <td>0</td>\n",
       "      <td>STON/O2. 3101282</td>\n",
       "      <td>7.9250</td>\n",
       "      <td>NaN</td>\n",
       "      <td>S</td>\n",
       "    </tr>\n",
       "    <tr>\n",
       "      <th>3</th>\n",
       "      <td>4</td>\n",
       "      <td>1</td>\n",
       "      <td>1</td>\n",
       "      <td>Futrelle, Mrs. Jacques Heath (Lily May Peel)</td>\n",
       "      <td>female</td>\n",
       "      <td>35.0</td>\n",
       "      <td>1</td>\n",
       "      <td>0</td>\n",
       "      <td>113803</td>\n",
       "      <td>53.1000</td>\n",
       "      <td>C123</td>\n",
       "      <td>S</td>\n",
       "    </tr>\n",
       "    <tr>\n",
       "      <th>4</th>\n",
       "      <td>5</td>\n",
       "      <td>0</td>\n",
       "      <td>3</td>\n",
       "      <td>Allen, Mr. William Henry</td>\n",
       "      <td>male</td>\n",
       "      <td>35.0</td>\n",
       "      <td>0</td>\n",
       "      <td>0</td>\n",
       "      <td>373450</td>\n",
       "      <td>8.0500</td>\n",
       "      <td>NaN</td>\n",
       "      <td>S</td>\n",
       "    </tr>\n",
       "  </tbody>\n",
       "</table>\n",
       "</div>"
      ],
      "text/plain": [
       "   PassengerId  Survived  Pclass  \\\n",
       "0            1         0       3   \n",
       "1            2         1       1   \n",
       "2            3         1       3   \n",
       "3            4         1       1   \n",
       "4            5         0       3   \n",
       "\n",
       "                                                Name     Sex   Age  SibSp  \\\n",
       "0                            Braund, Mr. Owen Harris    male  22.0      1   \n",
       "1  Cumings, Mrs. John Bradley (Florence Briggs Th...  female  38.0      1   \n",
       "2                             Heikkinen, Miss. Laina  female  26.0      0   \n",
       "3       Futrelle, Mrs. Jacques Heath (Lily May Peel)  female  35.0      1   \n",
       "4                           Allen, Mr. William Henry    male  35.0      0   \n",
       "\n",
       "   Parch            Ticket     Fare Cabin Embarked  \n",
       "0      0         A/5 21171   7.2500   NaN        S  \n",
       "1      0          PC 17599  71.2833   C85        C  \n",
       "2      0  STON/O2. 3101282   7.9250   NaN        S  \n",
       "3      0            113803  53.1000  C123        S  \n",
       "4      0            373450   8.0500   NaN        S  "
      ]
     },
     "execution_count": 4,
     "metadata": {},
     "output_type": "execute_result"
    }
   ],
   "source": [
    "df_titanic.head()"
   ]
  },
  {
   "cell_type": "markdown",
   "metadata": {},
   "source": [
    "# Some quick data exploration"
   ]
  },
  {
   "cell_type": "code",
   "execution_count": 5,
   "metadata": {
    "ExecuteTime": {
     "end_time": "2019-08-23T12:46:52.686603Z",
     "start_time": "2019-08-23T12:46:52.553317Z"
    }
   },
   "outputs": [
    {
     "data": {
      "image/png": "[encoded data removed]",
      "text/plain": [
       "<Figure size 1080x360 with 1 Axes>"
      ]
     },
     "metadata": {
      "needs_background": "light"
     },
     "output_type": "display_data"
    }
   ],
   "source": [
    "sns.countplot('Survived',data=df_titanic);"
   ]
  },
  {
   "cell_type": "markdown",
   "metadata": {},
   "source": [
    "It is evident that not many passengers survived the accident.\n",
    "\n",
    "Out of 891 passengers in training set, only around 350 survived i.e Only 38.4% of the total training set survived the crash. We need to dig down more to get better insights from the data and see which categories of the passengers did survive and who didn't."
   ]
  },
  {
   "cell_type": "code",
   "execution_count": 7,
   "metadata": {
    "ExecuteTime": {
     "end_time": "2019-08-23T12:47:14.484764Z",
     "start_time": "2019-08-23T12:47:14.344880Z"
    }
   },
   "outputs": [
    {
     "data": {
      "image/png": "[encoded data removed]",
      "text/plain": [
       "<Figure size 1080x360 with 1 Axes>"
      ]
     },
     "metadata": {
      "needs_background": "light"
     },
     "output_type": "display_data"
    }
   ],
   "source": [
    "sns.countplot('Sex',hue='Survived',data=df_titanic);"
   ]
  },
  {
   "cell_type": "markdown",
   "metadata": {},
   "source": [
    "The number of men on the ship is lot more than the number of women. Still the number of women saved is almost twice the number of males saved. The survival rates for a **women on the ship is around 75% while that for men in around 18-19%.**\n",
    "\n",
    "I guess the saying **woman and children first** did apply in the Titanic and it was a Hollywood stunt."
   ]
  },
  {
   "cell_type": "code",
   "execution_count": 8,
   "metadata": {
    "ExecuteTime": {
     "end_time": "2019-08-23T12:47:23.054607Z",
     "start_time": "2019-08-23T12:47:22.906378Z"
    }
   },
   "outputs": [
    {
     "data": {
      "image/png": "[encoded data removed]",
      "text/plain": [
       "<Figure size 1080x360 with 1 Axes>"
      ]
     },
     "metadata": {
      "needs_background": "light"
     },
     "output_type": "display_data"
    }
   ],
   "source": [
    "sns.countplot('Pclass',hue='Survived',data=df_titanic);"
   ]
  },
  {
   "cell_type": "markdown",
   "metadata": {},
   "source": [
    "People say **Money Can't Buy Everything**. But we can clearly see that Passenegers Of Pclass 1 were given a very high priority while rescue. Even though the the number of Passengers in Pclass 3 were a lot higher, still the number of survival from them is very low, somewhere around **25%**.\n",
    "\n",
    "For Pclass 1 %survived is around **63%** while for Pclass2 is around **48%**. So money and status matters."
   ]
  },
  {
   "cell_type": "code",
   "execution_count": 9,
   "metadata": {
    "ExecuteTime": {
     "end_time": "2019-08-23T12:47:32.669842Z",
     "start_time": "2019-08-23T12:47:32.512803Z"
    }
   },
   "outputs": [
    {
     "data": {
      "image/png": "[encoded data removed]",
      "text/plain": [
       "<Figure size 1080x360 with 1 Axes>"
      ]
     },
     "metadata": {
      "needs_background": "light"
     },
     "output_type": "display_data"
    }
   ],
   "source": [
    "sns.countplot('Embarked',hue='Survived',data=df_titanic);"
   ]
  },
  {
   "cell_type": "markdown",
   "metadata": {},
   "source": [
    "Oh! So people who embarked from C (Cherbourg) and Q (Queenstown) where more likely to survive then those that boarded from S (Southampton)."
   ]
  },
  {
   "cell_type": "markdown",
   "metadata": {},
   "source": [
    "# Pre-Processing\n"
   ]
  },
  {
   "cell_type": "markdown",
   "metadata": {},
   "source": [
    "## Inputing missing data\n",
    "Looking at our Titanic dataset, the feature for **cabin** clearly indicates that we have `NaN` values. We need to handle these and any other null columns."
   ]
  },
  {
   "cell_type": "code",
   "execution_count": 10,
   "metadata": {
    "ExecuteTime": {
     "end_time": "2019-08-23T12:47:40.980494Z",
     "start_time": "2019-08-23T12:47:40.805274Z"
    }
   },
   "outputs": [
    {
     "data": {
      "image/png": "[encoded data removed]",
      "text/plain": [
       "<Figure size 1080x360 with 1 Axes>"
      ]
     },
     "metadata": {
      "needs_background": "light"
     },
     "output_type": "display_data"
    }
   ],
   "source": [
    "sns.heatmap(df_titanic.isnull(),yticklabels=False,cbar=False,cmap='viridis');"
   ]
  },
  {
   "cell_type": "code",
   "execution_count": 11,
   "metadata": {
    "ExecuteTime": {
     "end_time": "2019-08-23T12:47:52.318654Z",
     "start_time": "2019-08-23T12:47:52.302382Z"
    }
   },
   "outputs": [
    {
     "data": {
      "text/html": [
       "<div>\n",
       "<style scoped>\n",
       "    .dataframe tbody tr th:only-of-type {\n",
       "        vertical-align: middle;\n",
       "    }\n",
       "\n",
       "    .dataframe tbody tr th {\n",
       "        vertical-align: top;\n",
       "    }\n",
       "\n",
       "    .dataframe thead th {\n",
       "        text-align: right;\n",
       "    }\n",
       "</style>\n",
       "<table border=\"1\" class=\"dataframe\">\n",
       "  <thead>\n",
       "    <tr style=\"text-align: right;\">\n",
       "      <th></th>\n",
       "      <th>Total</th>\n",
       "      <th>Percent</th>\n",
       "    </tr>\n",
       "  </thead>\n",
       "  <tbody>\n",
       "    <tr>\n",
       "      <th>Cabin</th>\n",
       "      <td>1014</td>\n",
       "      <td>77.463713</td>\n",
       "    </tr>\n",
       "    <tr>\n",
       "      <th>Age</th>\n",
       "      <td>263</td>\n",
       "      <td>20.091673</td>\n",
       "    </tr>\n",
       "    <tr>\n",
       "      <th>Embarked</th>\n",
       "      <td>2</td>\n",
       "      <td>0.152788</td>\n",
       "    </tr>\n",
       "    <tr>\n",
       "      <th>Fare</th>\n",
       "      <td>1</td>\n",
       "      <td>0.076394</td>\n",
       "    </tr>\n",
       "    <tr>\n",
       "      <th>Ticket</th>\n",
       "      <td>0</td>\n",
       "      <td>0.000000</td>\n",
       "    </tr>\n",
       "    <tr>\n",
       "      <th>Parch</th>\n",
       "      <td>0</td>\n",
       "      <td>0.000000</td>\n",
       "    </tr>\n",
       "    <tr>\n",
       "      <th>SibSp</th>\n",
       "      <td>0</td>\n",
       "      <td>0.000000</td>\n",
       "    </tr>\n",
       "    <tr>\n",
       "      <th>Sex</th>\n",
       "      <td>0</td>\n",
       "      <td>0.000000</td>\n",
       "    </tr>\n",
       "    <tr>\n",
       "      <th>Name</th>\n",
       "      <td>0</td>\n",
       "      <td>0.000000</td>\n",
       "    </tr>\n",
       "    <tr>\n",
       "      <th>Pclass</th>\n",
       "      <td>0</td>\n",
       "      <td>0.000000</td>\n",
       "    </tr>\n",
       "    <tr>\n",
       "      <th>Survived</th>\n",
       "      <td>0</td>\n",
       "      <td>0.000000</td>\n",
       "    </tr>\n",
       "    <tr>\n",
       "      <th>PassengerId</th>\n",
       "      <td>0</td>\n",
       "      <td>0.000000</td>\n",
       "    </tr>\n",
       "  </tbody>\n",
       "</table>\n",
       "</div>"
      ],
      "text/plain": [
       "             Total    Percent\n",
       "Cabin         1014  77.463713\n",
       "Age            263  20.091673\n",
       "Embarked         2   0.152788\n",
       "Fare             1   0.076394\n",
       "Ticket           0   0.000000\n",
       "Parch            0   0.000000\n",
       "SibSp            0   0.000000\n",
       "Sex              0   0.000000\n",
       "Name             0   0.000000\n",
       "Pclass           0   0.000000\n",
       "Survived         0   0.000000\n",
       "PassengerId      0   0.000000"
      ]
     },
     "execution_count": 11,
     "metadata": {},
     "output_type": "execute_result"
    }
   ],
   "source": [
    "def missingValues(data):\n",
    "    total = data.isnull().sum().sort_values(ascending=False) # getting the sum of null values and ordering\n",
    "    percent = (data.isnull().sum() / data.isnull().count() * 100).sort_values(ascending=False)  #getting the percent and order of null\n",
    "    dt = pd.concat([total, percent], axis=1,keys=['Total','Percent'])  # Concatenating the total and percent\n",
    "    return dt\n",
    "missingValues(df_titanic)"
   ]
  },
  {
   "cell_type": "markdown",
   "metadata": {},
   "source": [
    "So we have 3 types of missing information:\n",
    "- **cabin** has 77% missing....not sure what information it can give us\n",
    "- **age** we can maybe fill in the most common.....\n",
    "- **embarked** & **fare**\n",
    "    - we could delete and not loose too much info...only 0.15% and 0.07%\n",
    "    - we could inpute with the most common embarkation port or mean_fare"
   ]
  },
  {
   "cell_type": "code",
   "execution_count": 11,
   "metadata": {
    "ExecuteTime": {
     "end_time": "2019-08-22T11:49:17.913718Z",
     "start_time": "2019-08-22T11:49:17.908351Z"
    }
   },
   "outputs": [
    {
     "name": "stdout",
     "output_type": "stream",
     "text": [
      "['PassengerId', 'Survived', 'Pclass', 'Name', 'Sex', 'Age', 'SibSp', 'Parch', 'Ticket', 'Fare', 'Cabin', 'Embarked']\n",
      "['PassengerId', 'Survived', 'Pclass', 'Name', 'Sex', 'Age', 'SibSp', 'Parch', 'Ticket', 'Fare', 'Embarked']\n"
     ]
    }
   ],
   "source": [
    "# drop cabin\n"
   ]
  },
  {
   "cell_type": "code",
   "execution_count": 12,
   "metadata": {
    "ExecuteTime": {
     "end_time": "2019-08-22T11:49:17.918783Z",
     "start_time": "2019-08-22T11:49:17.915207Z"
    }
   },
   "outputs": [
    {
     "data": {
      "text/plain": [
       "29.881137667304014"
      ]
     },
     "execution_count": 12,
     "metadata": {},
     "output_type": "execute_result"
    }
   ],
   "source": [
    "# inpute mean age - 29.69 seems about right\n",
    "np.mean(df_titanic['Age'])"
   ]
  },
  {
   "cell_type": "code",
   "execution_count": null,
   "metadata": {},
   "outputs": [],
   "source": [
    "df_titanic['Age'].head(8)"
   ]
  },
  {
   "cell_type": "code",
   "execution_count": 14,
   "metadata": {
    "ExecuteTime": {
     "end_time": "2019-08-22T11:49:17.931226Z",
     "start_time": "2019-08-22T11:49:17.926123Z"
    }
   },
   "outputs": [],
   "source": []
  },
  {
   "cell_type": "code",
   "execution_count": 15,
   "metadata": {
    "ExecuteTime": {
     "end_time": "2019-08-22T11:49:17.936863Z",
     "start_time": "2019-08-22T11:49:17.932730Z"
    }
   },
   "outputs": [
    {
     "data": {
      "text/plain": [
       "0    22.0\n",
       "1    38.0\n",
       "2    26.0\n",
       "3    35.0\n",
       "4    35.0\n",
       "5    30.0\n",
       "6    54.0\n",
       "7     2.0\n",
       "Name: Age, dtype: float64"
      ]
     },
     "execution_count": 15,
     "metadata": {},
     "output_type": "execute_result"
    }
   ],
   "source": [
    "df_titanic['Age'].head(8)"
   ]
  },
  {
   "cell_type": "code",
   "execution_count": 16,
   "metadata": {
    "ExecuteTime": {
     "end_time": "2019-08-22T11:49:17.943000Z",
     "start_time": "2019-08-22T11:49:17.938442Z"
    }
   },
   "outputs": [],
   "source": [
    "# mean fare\n",
    "df_titanic['Fare'][ df_titanic['Fare'].isnull()] = round(np.mean(df_titanic['Fare']))"
   ]
  },
  {
   "cell_type": "code",
   "execution_count": 17,
   "metadata": {
    "ExecuteTime": {
     "end_time": "2019-08-22T11:49:17.948100Z",
     "start_time": "2019-08-22T11:49:17.944335Z"
    }
   },
   "outputs": [
    {
     "data": {
      "text/plain": [
       "Counter({'S': 914, 'C': 270, 'Q': 123, nan: 2})"
      ]
     },
     "execution_count": 17,
     "metadata": {},
     "output_type": "execute_result"
    }
   ],
   "source": [
    "# inpute most common embarkation port\n",
    "from collections import Counter\n",
    "Counter(df_titanic['Embarked'])"
   ]
  },
  {
   "cell_type": "code",
   "execution_count": 18,
   "metadata": {
    "ExecuteTime": {
     "end_time": "2019-08-22T11:49:17.955877Z",
     "start_time": "2019-08-22T11:49:17.950018Z"
    }
   },
   "outputs": [],
   "source": []
  },
  {
   "cell_type": "code",
   "execution_count": 19,
   "metadata": {
    "ExecuteTime": {
     "end_time": "2019-08-22T11:49:17.963153Z",
     "start_time": "2019-08-22T11:49:17.958185Z"
    }
   },
   "outputs": [
    {
     "data": {
      "text/plain": [
       "Counter({'S': 916, 'C': 270, 'Q': 123})"
      ]
     },
     "execution_count": 19,
     "metadata": {},
     "output_type": "execute_result"
    }
   ],
   "source": [
    "Counter(df_titanic['Embarked'])"
   ]
  },
  {
   "cell_type": "code",
   "execution_count": 20,
   "metadata": {
    "ExecuteTime": {
     "end_time": "2019-08-22T11:49:17.980031Z",
     "start_time": "2019-08-22T11:49:17.964957Z"
    }
   },
   "outputs": [
    {
     "data": {
      "text/html": [
       "<div>\n",
       "<style scoped>\n",
       "    .dataframe tbody tr th:only-of-type {\n",
       "        vertical-align: middle;\n",
       "    }\n",
       "\n",
       "    .dataframe tbody tr th {\n",
       "        vertical-align: top;\n",
       "    }\n",
       "\n",
       "    .dataframe thead th {\n",
       "        text-align: right;\n",
       "    }\n",
       "</style>\n",
       "<table border=\"1\" class=\"dataframe\">\n",
       "  <thead>\n",
       "    <tr style=\"text-align: right;\">\n",
       "      <th></th>\n",
       "      <th>Total</th>\n",
       "      <th>Percent</th>\n",
       "    </tr>\n",
       "  </thead>\n",
       "  <tbody>\n",
       "    <tr>\n",
       "      <th>Embarked</th>\n",
       "      <td>0</td>\n",
       "      <td>0.0</td>\n",
       "    </tr>\n",
       "    <tr>\n",
       "      <th>Fare</th>\n",
       "      <td>0</td>\n",
       "      <td>0.0</td>\n",
       "    </tr>\n",
       "    <tr>\n",
       "      <th>Ticket</th>\n",
       "      <td>0</td>\n",
       "      <td>0.0</td>\n",
       "    </tr>\n",
       "    <tr>\n",
       "      <th>Parch</th>\n",
       "      <td>0</td>\n",
       "      <td>0.0</td>\n",
       "    </tr>\n",
       "    <tr>\n",
       "      <th>SibSp</th>\n",
       "      <td>0</td>\n",
       "      <td>0.0</td>\n",
       "    </tr>\n",
       "    <tr>\n",
       "      <th>Age</th>\n",
       "      <td>0</td>\n",
       "      <td>0.0</td>\n",
       "    </tr>\n",
       "    <tr>\n",
       "      <th>Sex</th>\n",
       "      <td>0</td>\n",
       "      <td>0.0</td>\n",
       "    </tr>\n",
       "    <tr>\n",
       "      <th>Name</th>\n",
       "      <td>0</td>\n",
       "      <td>0.0</td>\n",
       "    </tr>\n",
       "    <tr>\n",
       "      <th>Pclass</th>\n",
       "      <td>0</td>\n",
       "      <td>0.0</td>\n",
       "    </tr>\n",
       "    <tr>\n",
       "      <th>Survived</th>\n",
       "      <td>0</td>\n",
       "      <td>0.0</td>\n",
       "    </tr>\n",
       "    <tr>\n",
       "      <th>PassengerId</th>\n",
       "      <td>0</td>\n",
       "      <td>0.0</td>\n",
       "    </tr>\n",
       "  </tbody>\n",
       "</table>\n",
       "</div>"
      ],
      "text/plain": [
       "             Total  Percent\n",
       "Embarked         0      0.0\n",
       "Fare             0      0.0\n",
       "Ticket           0      0.0\n",
       "Parch            0      0.0\n",
       "SibSp            0      0.0\n",
       "Age              0      0.0\n",
       "Sex              0      0.0\n",
       "Name             0      0.0\n",
       "Pclass           0      0.0\n",
       "Survived         0      0.0\n",
       "PassengerId      0      0.0"
      ]
     },
     "execution_count": 20,
     "metadata": {},
     "output_type": "execute_result"
    }
   ],
   "source": [
    "missingValues(df_titanic)"
   ]
  },
  {
   "cell_type": "markdown",
   "metadata": {},
   "source": [
    "## Data types\n",
    "**Categorical Features:**\n",
    "A categorical variable is one that has two or more categories and each value in that feature can be categorised by them. For example, gender is a categorical variable having two categories (male and female). Now we cannot sort or give any ordering to such variables. They are also known as Nominal Variables.\n",
    "\n",
    "Categorical Features in the dataset: **Sex, Embarked**.\n",
    "\n",
    "**Ordinal Features:**\n",
    "An ordinal variable is similar to categorical values, but the difference between them is that we can have relative ordering or sorting between the values. For example: If we have a feature like Height with values Tall, Medium, Short, then Height is a ordinal variable. Here we can have a relative sort in the variable.\n",
    "\n",
    "Ordinal Features in the dataset: **PClass**\n",
    "\n",
    "\n",
    "**Continous Feature:**\n",
    "A feature is said to be continous if it can take values between any two points or between the minimum or maximum values in the features column.\n",
    "\n",
    "Continous Features in the dataset: **Age, Fare**"
   ]
  },
  {
   "cell_type": "code",
   "execution_count": 21,
   "metadata": {
    "ExecuteTime": {
     "end_time": "2019-08-22T11:49:17.994135Z",
     "start_time": "2019-08-22T11:49:17.981830Z"
    }
   },
   "outputs": [
    {
     "data": {
      "text/html": [
       "<div>\n",
       "<style scoped>\n",
       "    .dataframe tbody tr th:only-of-type {\n",
       "        vertical-align: middle;\n",
       "    }\n",
       "\n",
       "    .dataframe tbody tr th {\n",
       "        vertical-align: top;\n",
       "    }\n",
       "\n",
       "    .dataframe thead th {\n",
       "        text-align: right;\n",
       "    }\n",
       "</style>\n",
       "<table border=\"1\" class=\"dataframe\">\n",
       "  <thead>\n",
       "    <tr style=\"text-align: right;\">\n",
       "      <th></th>\n",
       "      <th>PassengerId</th>\n",
       "      <th>Survived</th>\n",
       "      <th>Pclass</th>\n",
       "      <th>Name</th>\n",
       "      <th>Sex</th>\n",
       "      <th>Age</th>\n",
       "      <th>SibSp</th>\n",
       "      <th>Parch</th>\n",
       "      <th>Ticket</th>\n",
       "      <th>Fare</th>\n",
       "      <th>Embarked</th>\n",
       "    </tr>\n",
       "  </thead>\n",
       "  <tbody>\n",
       "    <tr>\n",
       "      <th>0</th>\n",
       "      <td>1</td>\n",
       "      <td>0</td>\n",
       "      <td>3</td>\n",
       "      <td>Braund, Mr. Owen Harris</td>\n",
       "      <td>male</td>\n",
       "      <td>22.0</td>\n",
       "      <td>1</td>\n",
       "      <td>0</td>\n",
       "      <td>A/5 21171</td>\n",
       "      <td>7.2500</td>\n",
       "      <td>S</td>\n",
       "    </tr>\n",
       "    <tr>\n",
       "      <th>1</th>\n",
       "      <td>2</td>\n",
       "      <td>1</td>\n",
       "      <td>1</td>\n",
       "      <td>Cumings, Mrs. John Bradley (Florence Briggs Th...</td>\n",
       "      <td>female</td>\n",
       "      <td>38.0</td>\n",
       "      <td>1</td>\n",
       "      <td>0</td>\n",
       "      <td>PC 17599</td>\n",
       "      <td>71.2833</td>\n",
       "      <td>C</td>\n",
       "    </tr>\n",
       "    <tr>\n",
       "      <th>2</th>\n",
       "      <td>3</td>\n",
       "      <td>1</td>\n",
       "      <td>3</td>\n",
       "      <td>Heikkinen, Miss. Laina</td>\n",
       "      <td>female</td>\n",
       "      <td>26.0</td>\n",
       "      <td>0</td>\n",
       "      <td>0</td>\n",
       "      <td>STON/O2. 3101282</td>\n",
       "      <td>7.9250</td>\n",
       "      <td>S</td>\n",
       "    </tr>\n",
       "    <tr>\n",
       "      <th>3</th>\n",
       "      <td>4</td>\n",
       "      <td>1</td>\n",
       "      <td>1</td>\n",
       "      <td>Futrelle, Mrs. Jacques Heath (Lily May Peel)</td>\n",
       "      <td>female</td>\n",
       "      <td>35.0</td>\n",
       "      <td>1</td>\n",
       "      <td>0</td>\n",
       "      <td>113803</td>\n",
       "      <td>53.1000</td>\n",
       "      <td>S</td>\n",
       "    </tr>\n",
       "    <tr>\n",
       "      <th>4</th>\n",
       "      <td>5</td>\n",
       "      <td>0</td>\n",
       "      <td>3</td>\n",
       "      <td>Allen, Mr. William Henry</td>\n",
       "      <td>male</td>\n",
       "      <td>35.0</td>\n",
       "      <td>0</td>\n",
       "      <td>0</td>\n",
       "      <td>373450</td>\n",
       "      <td>8.0500</td>\n",
       "      <td>S</td>\n",
       "    </tr>\n",
       "  </tbody>\n",
       "</table>\n",
       "</div>"
      ],
      "text/plain": [
       "   PassengerId  Survived  Pclass  \\\n",
       "0            1         0       3   \n",
       "1            2         1       1   \n",
       "2            3         1       3   \n",
       "3            4         1       1   \n",
       "4            5         0       3   \n",
       "\n",
       "                                                Name     Sex   Age  SibSp  \\\n",
       "0                            Braund, Mr. Owen Harris    male  22.0      1   \n",
       "1  Cumings, Mrs. John Bradley (Florence Briggs Th...  female  38.0      1   \n",
       "2                             Heikkinen, Miss. Laina  female  26.0      0   \n",
       "3       Futrelle, Mrs. Jacques Heath (Lily May Peel)  female  35.0      1   \n",
       "4                           Allen, Mr. William Henry    male  35.0      0   \n",
       "\n",
       "   Parch            Ticket     Fare Embarked  \n",
       "0      0         A/5 21171   7.2500        S  \n",
       "1      0          PC 17599  71.2833        C  \n",
       "2      0  STON/O2. 3101282   7.9250        S  \n",
       "3      0            113803  53.1000        S  \n",
       "4      0            373450   8.0500        S  "
      ]
     },
     "execution_count": 21,
     "metadata": {},
     "output_type": "execute_result"
    }
   ],
   "source": [
    "df_titanic.head()"
   ]
  },
  {
   "cell_type": "markdown",
   "metadata": {},
   "source": [
    "## Categorical Variables\n",
    "### Sex - Binary"
   ]
  },
  {
   "cell_type": "code",
   "execution_count": 22,
   "metadata": {
    "ExecuteTime": {
     "end_time": "2019-08-22T11:49:18.000118Z",
     "start_time": "2019-08-22T11:49:17.996088Z"
    }
   },
   "outputs": [
    {
     "data": {
      "text/plain": [
       "Counter({'male': 843, 'female': 466})"
      ]
     },
     "execution_count": 22,
     "metadata": {},
     "output_type": "execute_result"
    }
   ],
   "source": [
    "Counter(df_titanic['Sex'])"
   ]
  },
  {
   "cell_type": "code",
   "execution_count": 24,
   "metadata": {
    "ExecuteTime": {
     "end_time": "2019-08-22T11:49:18.032979Z",
     "start_time": "2019-08-22T11:49:18.017818Z"
    }
   },
   "outputs": [
    {
     "data": {
      "text/html": [
       "<div>\n",
       "<style scoped>\n",
       "    .dataframe tbody tr th:only-of-type {\n",
       "        vertical-align: middle;\n",
       "    }\n",
       "\n",
       "    .dataframe tbody tr th {\n",
       "        vertical-align: top;\n",
       "    }\n",
       "\n",
       "    .dataframe thead th {\n",
       "        text-align: right;\n",
       "    }\n",
       "</style>\n",
       "<table border=\"1\" class=\"dataframe\">\n",
       "  <thead>\n",
       "    <tr style=\"text-align: right;\">\n",
       "      <th></th>\n",
       "      <th>PassengerId</th>\n",
       "      <th>Survived</th>\n",
       "      <th>Pclass</th>\n",
       "      <th>Name</th>\n",
       "      <th>Sex</th>\n",
       "      <th>Age</th>\n",
       "      <th>SibSp</th>\n",
       "      <th>Parch</th>\n",
       "      <th>Ticket</th>\n",
       "      <th>Fare</th>\n",
       "      <th>Embarked</th>\n",
       "    </tr>\n",
       "  </thead>\n",
       "  <tbody>\n",
       "    <tr>\n",
       "      <th>0</th>\n",
       "      <td>1</td>\n",
       "      <td>0</td>\n",
       "      <td>3</td>\n",
       "      <td>Braund, Mr. Owen Harris</td>\n",
       "      <td>1</td>\n",
       "      <td>22.0</td>\n",
       "      <td>1</td>\n",
       "      <td>0</td>\n",
       "      <td>A/5 21171</td>\n",
       "      <td>7.2500</td>\n",
       "      <td>S</td>\n",
       "    </tr>\n",
       "    <tr>\n",
       "      <th>1</th>\n",
       "      <td>2</td>\n",
       "      <td>1</td>\n",
       "      <td>1</td>\n",
       "      <td>Cumings, Mrs. John Bradley (Florence Briggs Th...</td>\n",
       "      <td>0</td>\n",
       "      <td>38.0</td>\n",
       "      <td>1</td>\n",
       "      <td>0</td>\n",
       "      <td>PC 17599</td>\n",
       "      <td>71.2833</td>\n",
       "      <td>C</td>\n",
       "    </tr>\n",
       "    <tr>\n",
       "      <th>2</th>\n",
       "      <td>3</td>\n",
       "      <td>1</td>\n",
       "      <td>3</td>\n",
       "      <td>Heikkinen, Miss. Laina</td>\n",
       "      <td>0</td>\n",
       "      <td>26.0</td>\n",
       "      <td>0</td>\n",
       "      <td>0</td>\n",
       "      <td>STON/O2. 3101282</td>\n",
       "      <td>7.9250</td>\n",
       "      <td>S</td>\n",
       "    </tr>\n",
       "    <tr>\n",
       "      <th>3</th>\n",
       "      <td>4</td>\n",
       "      <td>1</td>\n",
       "      <td>1</td>\n",
       "      <td>Futrelle, Mrs. Jacques Heath (Lily May Peel)</td>\n",
       "      <td>0</td>\n",
       "      <td>35.0</td>\n",
       "      <td>1</td>\n",
       "      <td>0</td>\n",
       "      <td>113803</td>\n",
       "      <td>53.1000</td>\n",
       "      <td>S</td>\n",
       "    </tr>\n",
       "    <tr>\n",
       "      <th>4</th>\n",
       "      <td>5</td>\n",
       "      <td>0</td>\n",
       "      <td>3</td>\n",
       "      <td>Allen, Mr. William Henry</td>\n",
       "      <td>1</td>\n",
       "      <td>35.0</td>\n",
       "      <td>0</td>\n",
       "      <td>0</td>\n",
       "      <td>373450</td>\n",
       "      <td>8.0500</td>\n",
       "      <td>S</td>\n",
       "    </tr>\n",
       "    <tr>\n",
       "      <th>5</th>\n",
       "      <td>6</td>\n",
       "      <td>0</td>\n",
       "      <td>3</td>\n",
       "      <td>Moran, Mr. James</td>\n",
       "      <td>1</td>\n",
       "      <td>30.0</td>\n",
       "      <td>0</td>\n",
       "      <td>0</td>\n",
       "      <td>330877</td>\n",
       "      <td>8.4583</td>\n",
       "      <td>Q</td>\n",
       "    </tr>\n",
       "    <tr>\n",
       "      <th>6</th>\n",
       "      <td>7</td>\n",
       "      <td>0</td>\n",
       "      <td>1</td>\n",
       "      <td>McCarthy, Mr. Timothy J</td>\n",
       "      <td>1</td>\n",
       "      <td>54.0</td>\n",
       "      <td>0</td>\n",
       "      <td>0</td>\n",
       "      <td>17463</td>\n",
       "      <td>51.8625</td>\n",
       "      <td>S</td>\n",
       "    </tr>\n",
       "    <tr>\n",
       "      <th>7</th>\n",
       "      <td>8</td>\n",
       "      <td>0</td>\n",
       "      <td>3</td>\n",
       "      <td>Palsson, Master. Gosta Leonard</td>\n",
       "      <td>1</td>\n",
       "      <td>2.0</td>\n",
       "      <td>3</td>\n",
       "      <td>1</td>\n",
       "      <td>349909</td>\n",
       "      <td>21.0750</td>\n",
       "      <td>S</td>\n",
       "    </tr>\n",
       "    <tr>\n",
       "      <th>8</th>\n",
       "      <td>9</td>\n",
       "      <td>1</td>\n",
       "      <td>3</td>\n",
       "      <td>Johnson, Mrs. Oscar W (Elisabeth Vilhelmina Berg)</td>\n",
       "      <td>0</td>\n",
       "      <td>27.0</td>\n",
       "      <td>0</td>\n",
       "      <td>2</td>\n",
       "      <td>347742</td>\n",
       "      <td>11.1333</td>\n",
       "      <td>S</td>\n",
       "    </tr>\n",
       "    <tr>\n",
       "      <th>9</th>\n",
       "      <td>10</td>\n",
       "      <td>1</td>\n",
       "      <td>2</td>\n",
       "      <td>Nasser, Mrs. Nicholas (Adele Achem)</td>\n",
       "      <td>0</td>\n",
       "      <td>14.0</td>\n",
       "      <td>1</td>\n",
       "      <td>0</td>\n",
       "      <td>237736</td>\n",
       "      <td>30.0708</td>\n",
       "      <td>C</td>\n",
       "    </tr>\n",
       "  </tbody>\n",
       "</table>\n",
       "</div>"
      ],
      "text/plain": [
       "   PassengerId  Survived  Pclass  \\\n",
       "0            1         0       3   \n",
       "1            2         1       1   \n",
       "2            3         1       3   \n",
       "3            4         1       1   \n",
       "4            5         0       3   \n",
       "5            6         0       3   \n",
       "6            7         0       1   \n",
       "7            8         0       3   \n",
       "8            9         1       3   \n",
       "9           10         1       2   \n",
       "\n",
       "                                                Name  Sex   Age  SibSp  Parch  \\\n",
       "0                            Braund, Mr. Owen Harris    1  22.0      1      0   \n",
       "1  Cumings, Mrs. John Bradley (Florence Briggs Th...    0  38.0      1      0   \n",
       "2                             Heikkinen, Miss. Laina    0  26.0      0      0   \n",
       "3       Futrelle, Mrs. Jacques Heath (Lily May Peel)    0  35.0      1      0   \n",
       "4                           Allen, Mr. William Henry    1  35.0      0      0   \n",
       "5                                   Moran, Mr. James    1  30.0      0      0   \n",
       "6                            McCarthy, Mr. Timothy J    1  54.0      0      0   \n",
       "7                     Palsson, Master. Gosta Leonard    1   2.0      3      1   \n",
       "8  Johnson, Mrs. Oscar W (Elisabeth Vilhelmina Berg)    0  27.0      0      2   \n",
       "9                Nasser, Mrs. Nicholas (Adele Achem)    0  14.0      1      0   \n",
       "\n",
       "             Ticket     Fare Embarked  \n",
       "0         A/5 21171   7.2500        S  \n",
       "1          PC 17599  71.2833        C  \n",
       "2  STON/O2. 3101282   7.9250        S  \n",
       "3            113803  53.1000        S  \n",
       "4            373450   8.0500        S  \n",
       "5            330877   8.4583        Q  \n",
       "6             17463  51.8625        S  \n",
       "7            349909  21.0750        S  \n",
       "8            347742  11.1333        S  \n",
       "9            237736  30.0708        C  "
      ]
     },
     "execution_count": 24,
     "metadata": {},
     "output_type": "execute_result"
    }
   ],
   "source": [
    "## use preprocessing LabelEncoder"
   ]
  },
  {
   "cell_type": "markdown",
   "metadata": {
    "ExecuteTime": {
     "end_time": "2019-08-21T09:36:04.616671Z",
     "start_time": "2019-08-21T09:36:04.614548Z"
    }
   },
   "source": [
    "### Embarked - Categorical"
   ]
  },
  {
   "cell_type": "code",
   "execution_count": 25,
   "metadata": {
    "ExecuteTime": {
     "end_time": "2019-08-22T11:49:18.039647Z",
     "start_time": "2019-08-22T11:49:18.034847Z"
    }
   },
   "outputs": [
    {
     "data": {
      "text/plain": [
       "Counter({'S': 916, 'C': 270, 'Q': 123})"
      ]
     },
     "execution_count": 25,
     "metadata": {},
     "output_type": "execute_result"
    }
   ],
   "source": [
    "Counter(df_titanic['Embarked'])"
   ]
  },
  {
   "cell_type": "code",
   "execution_count": 26,
   "metadata": {
    "ExecuteTime": {
     "end_time": "2019-08-22T11:49:18.047804Z",
     "start_time": "2019-08-22T11:49:18.041918Z"
    }
   },
   "outputs": [],
   "source": [
    "## use preprpcessing OneHotEncoder\n",
    "\n"
   ]
  },
  {
   "cell_type": "code",
   "execution_count": 27,
   "metadata": {
    "ExecuteTime": {
     "end_time": "2019-08-22T11:49:18.053501Z",
     "start_time": "2019-08-22T11:49:18.049746Z"
    }
   },
   "outputs": [
    {
     "data": {
      "text/plain": [
       "[array(['C', 'Q', 'S'], dtype=object)]"
      ]
     },
     "execution_count": 27,
     "metadata": {},
     "output_type": "execute_result"
    }
   ],
   "source": [
    "ohe_fitted.categories_"
   ]
  },
  {
   "cell_type": "code",
   "execution_count": 28,
   "metadata": {
    "ExecuteTime": {
     "end_time": "2019-08-22T11:49:18.066747Z",
     "start_time": "2019-08-22T11:49:18.055398Z"
    }
   },
   "outputs": [
    {
     "data": {
      "text/html": [
       "<div>\n",
       "<style scoped>\n",
       "    .dataframe tbody tr th:only-of-type {\n",
       "        vertical-align: middle;\n",
       "    }\n",
       "\n",
       "    .dataframe tbody tr th {\n",
       "        vertical-align: top;\n",
       "    }\n",
       "\n",
       "    .dataframe thead th {\n",
       "        text-align: right;\n",
       "    }\n",
       "</style>\n",
       "<table border=\"1\" class=\"dataframe\">\n",
       "  <thead>\n",
       "    <tr style=\"text-align: right;\">\n",
       "      <th></th>\n",
       "      <th>Embarked_C</th>\n",
       "      <th>Embarked_Q</th>\n",
       "      <th>Embarked_S</th>\n",
       "    </tr>\n",
       "  </thead>\n",
       "  <tbody>\n",
       "    <tr>\n",
       "      <th>0</th>\n",
       "      <td>0.0</td>\n",
       "      <td>0.0</td>\n",
       "      <td>1.0</td>\n",
       "    </tr>\n",
       "    <tr>\n",
       "      <th>1</th>\n",
       "      <td>1.0</td>\n",
       "      <td>0.0</td>\n",
       "      <td>0.0</td>\n",
       "    </tr>\n",
       "    <tr>\n",
       "      <th>2</th>\n",
       "      <td>0.0</td>\n",
       "      <td>0.0</td>\n",
       "      <td>1.0</td>\n",
       "    </tr>\n",
       "    <tr>\n",
       "      <th>3</th>\n",
       "      <td>0.0</td>\n",
       "      <td>0.0</td>\n",
       "      <td>1.0</td>\n",
       "    </tr>\n",
       "    <tr>\n",
       "      <th>4</th>\n",
       "      <td>0.0</td>\n",
       "      <td>0.0</td>\n",
       "      <td>1.0</td>\n",
       "    </tr>\n",
       "  </tbody>\n",
       "</table>\n",
       "</div>"
      ],
      "text/plain": [
       "   Embarked_C  Embarked_Q  Embarked_S\n",
       "0         0.0         0.0         1.0\n",
       "1         1.0         0.0         0.0\n",
       "2         0.0         0.0         1.0\n",
       "3         0.0         0.0         1.0\n",
       "4         0.0         0.0         1.0"
      ]
     },
     "execution_count": 28,
     "metadata": {},
     "output_type": "execute_result"
    }
   ],
   "source": [
    "df_embarked = pd.DataFrame(ohe_fitted.transform(df_titanic[['Embarked']]),\n",
    "                           columns= [ 'Embarked_{}'.format(ii) for ii in ohe_fitted.categories_[0].tolist()]\n",
    "                          )\n",
    "df_embarked.head()"
   ]
  },
  {
   "cell_type": "code",
   "execution_count": 29,
   "metadata": {
    "ExecuteTime": {
     "end_time": "2019-08-22T11:49:18.084709Z",
     "start_time": "2019-08-22T11:49:18.068558Z"
    }
   },
   "outputs": [
    {
     "data": {
      "text/html": [
       "<div>\n",
       "<style scoped>\n",
       "    .dataframe tbody tr th:only-of-type {\n",
       "        vertical-align: middle;\n",
       "    }\n",
       "\n",
       "    .dataframe tbody tr th {\n",
       "        vertical-align: top;\n",
       "    }\n",
       "\n",
       "    .dataframe thead th {\n",
       "        text-align: right;\n",
       "    }\n",
       "</style>\n",
       "<table border=\"1\" class=\"dataframe\">\n",
       "  <thead>\n",
       "    <tr style=\"text-align: right;\">\n",
       "      <th></th>\n",
       "      <th>PassengerId</th>\n",
       "      <th>Survived</th>\n",
       "      <th>Pclass</th>\n",
       "      <th>Name</th>\n",
       "      <th>Sex</th>\n",
       "      <th>Age</th>\n",
       "      <th>SibSp</th>\n",
       "      <th>Parch</th>\n",
       "      <th>Ticket</th>\n",
       "      <th>Fare</th>\n",
       "      <th>Embarked_C</th>\n",
       "      <th>Embarked_Q</th>\n",
       "      <th>Embarked_S</th>\n",
       "    </tr>\n",
       "  </thead>\n",
       "  <tbody>\n",
       "    <tr>\n",
       "      <th>0</th>\n",
       "      <td>1</td>\n",
       "      <td>0</td>\n",
       "      <td>3</td>\n",
       "      <td>Braund, Mr. Owen Harris</td>\n",
       "      <td>1</td>\n",
       "      <td>22.0</td>\n",
       "      <td>1</td>\n",
       "      <td>0</td>\n",
       "      <td>A/5 21171</td>\n",
       "      <td>7.2500</td>\n",
       "      <td>0.0</td>\n",
       "      <td>0.0</td>\n",
       "      <td>1.0</td>\n",
       "    </tr>\n",
       "    <tr>\n",
       "      <th>1</th>\n",
       "      <td>2</td>\n",
       "      <td>1</td>\n",
       "      <td>1</td>\n",
       "      <td>Cumings, Mrs. John Bradley (Florence Briggs Th...</td>\n",
       "      <td>0</td>\n",
       "      <td>38.0</td>\n",
       "      <td>1</td>\n",
       "      <td>0</td>\n",
       "      <td>PC 17599</td>\n",
       "      <td>71.2833</td>\n",
       "      <td>1.0</td>\n",
       "      <td>0.0</td>\n",
       "      <td>0.0</td>\n",
       "    </tr>\n",
       "    <tr>\n",
       "      <th>2</th>\n",
       "      <td>3</td>\n",
       "      <td>1</td>\n",
       "      <td>3</td>\n",
       "      <td>Heikkinen, Miss. Laina</td>\n",
       "      <td>0</td>\n",
       "      <td>26.0</td>\n",
       "      <td>0</td>\n",
       "      <td>0</td>\n",
       "      <td>STON/O2. 3101282</td>\n",
       "      <td>7.9250</td>\n",
       "      <td>0.0</td>\n",
       "      <td>0.0</td>\n",
       "      <td>1.0</td>\n",
       "    </tr>\n",
       "    <tr>\n",
       "      <th>3</th>\n",
       "      <td>4</td>\n",
       "      <td>1</td>\n",
       "      <td>1</td>\n",
       "      <td>Futrelle, Mrs. Jacques Heath (Lily May Peel)</td>\n",
       "      <td>0</td>\n",
       "      <td>35.0</td>\n",
       "      <td>1</td>\n",
       "      <td>0</td>\n",
       "      <td>113803</td>\n",
       "      <td>53.1000</td>\n",
       "      <td>0.0</td>\n",
       "      <td>0.0</td>\n",
       "      <td>1.0</td>\n",
       "    </tr>\n",
       "    <tr>\n",
       "      <th>4</th>\n",
       "      <td>5</td>\n",
       "      <td>0</td>\n",
       "      <td>3</td>\n",
       "      <td>Allen, Mr. William Henry</td>\n",
       "      <td>1</td>\n",
       "      <td>35.0</td>\n",
       "      <td>0</td>\n",
       "      <td>0</td>\n",
       "      <td>373450</td>\n",
       "      <td>8.0500</td>\n",
       "      <td>0.0</td>\n",
       "      <td>0.0</td>\n",
       "      <td>1.0</td>\n",
       "    </tr>\n",
       "  </tbody>\n",
       "</table>\n",
       "</div>"
      ],
      "text/plain": [
       "   PassengerId  Survived  Pclass  \\\n",
       "0            1         0       3   \n",
       "1            2         1       1   \n",
       "2            3         1       3   \n",
       "3            4         1       1   \n",
       "4            5         0       3   \n",
       "\n",
       "                                                Name  Sex   Age  SibSp  Parch  \\\n",
       "0                            Braund, Mr. Owen Harris    1  22.0      1      0   \n",
       "1  Cumings, Mrs. John Bradley (Florence Briggs Th...    0  38.0      1      0   \n",
       "2                             Heikkinen, Miss. Laina    0  26.0      0      0   \n",
       "3       Futrelle, Mrs. Jacques Heath (Lily May Peel)    0  35.0      1      0   \n",
       "4                           Allen, Mr. William Henry    1  35.0      0      0   \n",
       "\n",
       "             Ticket     Fare  Embarked_C  Embarked_Q  Embarked_S  \n",
       "0         A/5 21171   7.2500         0.0         0.0         1.0  \n",
       "1          PC 17599  71.2833         1.0         0.0         0.0  \n",
       "2  STON/O2. 3101282   7.9250         0.0         0.0         1.0  \n",
       "3            113803  53.1000         0.0         0.0         1.0  \n",
       "4            373450   8.0500         0.0         0.0         1.0  "
      ]
     },
     "execution_count": 29,
     "metadata": {},
     "output_type": "execute_result"
    }
   ],
   "source": [
    "df_titanic = pd.concat([ df_titanic.drop(['Embarked'], axis=1), df_embarked], axis=1)\n",
    "df_titanic.head()"
   ]
  },
  {
   "cell_type": "markdown",
   "metadata": {},
   "source": [
    "## Ordinal Data\n",
    "What about **pclass** ?"
   ]
  },
  {
   "cell_type": "markdown",
   "metadata": {},
   "source": [
    "## Continous Data"
   ]
  },
  {
   "cell_type": "markdown",
   "metadata": {
    "ExecuteTime": {
     "end_time": "2019-08-20T10:18:36.353156Z",
     "start_time": "2019-08-20T10:18:36.347897Z"
    }
   },
   "source": [
    "Sometimes our observations will be very unevenly distributed for a given feature. For example, *ticket* is roughly exponentially distributed. In cases like these it can be useful to transform the values of our features or our target to better highlight trends or to allow for use of models that might not otherwise be applicable."
   ]
  },
  {
   "cell_type": "code",
   "execution_count": 30,
   "metadata": {
    "ExecuteTime": {
     "end_time": "2019-08-22T11:49:18.286727Z",
     "start_time": "2019-08-22T11:49:18.086335Z"
    }
   },
   "outputs": [
    {
     "data": {
      "image/png": "[encoded data removed]",
      "text/plain": [
       "<Figure size 1080x360 with 1 Axes>"
      ]
     },
     "metadata": {
      "needs_background": "light"
     },
     "output_type": "display_data"
    }
   ],
   "source": [
    "def plotDist(data):\n",
    "    sns.distplot(data, hist=True, kde=True, bins=20, color = 'darkblue', \n",
    "                 hist_kws={'edgecolor':'black'}, kde_kws={'linewidth': 4});\n",
    "plotDist(df_titanic['Age'])"
   ]
  },
  {
   "cell_type": "code",
   "execution_count": 31,
   "metadata": {
    "ExecuteTime": {
     "end_time": "2019-08-22T11:49:18.298740Z",
     "start_time": "2019-08-22T11:49:18.289492Z"
    }
   },
   "outputs": [
    {
     "data": {
      "text/plain": [
       "array([[-0.61382191],\n",
       "       [ 0.62857237],\n",
       "       [-0.30322334],\n",
       "       [ 0.39562345],\n",
       "       [ 0.39562345],\n",
       "       [ 0.00737523],\n",
       "       [ 1.87096665],\n",
       "       [-2.16681476],\n",
       "       [-0.22557369],\n",
       "       [-1.23501905]])"
      ]
     },
     "execution_count": 31,
     "metadata": {},
     "output_type": "execute_result"
    }
   ],
   "source": [
    "## use sklearn.preprocessing StandardScaler\n",
    "\n",
    "ss = StandardScaler()\n",
    "ss_transformed = ss.fit_transform(df_titanic[['Age']])\n",
    "ss_transformed[:10]"
   ]
  },
  {
   "cell_type": "code",
   "execution_count": 32,
   "metadata": {
    "ExecuteTime": {
     "end_time": "2019-08-22T11:49:18.517949Z",
     "start_time": "2019-08-22T11:49:18.300789Z"
    }
   },
   "outputs": [
    {
     "data": {
      "image/png": "[encoded data removed]",
      "text/plain": [
       "<Figure size 1080x360 with 1 Axes>"
      ]
     },
     "metadata": {
      "needs_background": "light"
     },
     "output_type": "display_data"
    }
   ],
   "source": [
    "plotDist(ss_transformed)"
   ]
  },
  {
   "cell_type": "code",
   "execution_count": 33,
   "metadata": {
    "ExecuteTime": {
     "end_time": "2019-08-22T11:49:18.530874Z",
     "start_time": "2019-08-22T11:49:18.519373Z"
    }
   },
   "outputs": [
    {
     "data": {
      "text/html": [
       "<div>\n",
       "<style scoped>\n",
       "    .dataframe tbody tr th:only-of-type {\n",
       "        vertical-align: middle;\n",
       "    }\n",
       "\n",
       "    .dataframe tbody tr th {\n",
       "        vertical-align: top;\n",
       "    }\n",
       "\n",
       "    .dataframe thead th {\n",
       "        text-align: right;\n",
       "    }\n",
       "</style>\n",
       "<table border=\"1\" class=\"dataframe\">\n",
       "  <thead>\n",
       "    <tr style=\"text-align: right;\">\n",
       "      <th></th>\n",
       "      <th>PassengerId</th>\n",
       "      <th>Survived</th>\n",
       "      <th>Pclass</th>\n",
       "      <th>Name</th>\n",
       "      <th>Sex</th>\n",
       "      <th>Age</th>\n",
       "      <th>SibSp</th>\n",
       "      <th>Parch</th>\n",
       "      <th>Ticket</th>\n",
       "      <th>Fare</th>\n",
       "      <th>Embarked_C</th>\n",
       "      <th>Embarked_Q</th>\n",
       "      <th>Embarked_S</th>\n",
       "    </tr>\n",
       "  </thead>\n",
       "  <tbody>\n",
       "    <tr>\n",
       "      <th>0</th>\n",
       "      <td>1</td>\n",
       "      <td>0</td>\n",
       "      <td>3</td>\n",
       "      <td>Braund, Mr. Owen Harris</td>\n",
       "      <td>1</td>\n",
       "      <td>22.0</td>\n",
       "      <td>1</td>\n",
       "      <td>0</td>\n",
       "      <td>A/5 21171</td>\n",
       "      <td>7.2500</td>\n",
       "      <td>0.0</td>\n",
       "      <td>0.0</td>\n",
       "      <td>1.0</td>\n",
       "    </tr>\n",
       "    <tr>\n",
       "      <th>1</th>\n",
       "      <td>2</td>\n",
       "      <td>1</td>\n",
       "      <td>1</td>\n",
       "      <td>Cumings, Mrs. John Bradley (Florence Briggs Th...</td>\n",
       "      <td>0</td>\n",
       "      <td>38.0</td>\n",
       "      <td>1</td>\n",
       "      <td>0</td>\n",
       "      <td>PC 17599</td>\n",
       "      <td>71.2833</td>\n",
       "      <td>1.0</td>\n",
       "      <td>0.0</td>\n",
       "      <td>0.0</td>\n",
       "    </tr>\n",
       "    <tr>\n",
       "      <th>2</th>\n",
       "      <td>3</td>\n",
       "      <td>1</td>\n",
       "      <td>3</td>\n",
       "      <td>Heikkinen, Miss. Laina</td>\n",
       "      <td>0</td>\n",
       "      <td>26.0</td>\n",
       "      <td>0</td>\n",
       "      <td>0</td>\n",
       "      <td>STON/O2. 3101282</td>\n",
       "      <td>7.9250</td>\n",
       "      <td>0.0</td>\n",
       "      <td>0.0</td>\n",
       "      <td>1.0</td>\n",
       "    </tr>\n",
       "    <tr>\n",
       "      <th>3</th>\n",
       "      <td>4</td>\n",
       "      <td>1</td>\n",
       "      <td>1</td>\n",
       "      <td>Futrelle, Mrs. Jacques Heath (Lily May Peel)</td>\n",
       "      <td>0</td>\n",
       "      <td>35.0</td>\n",
       "      <td>1</td>\n",
       "      <td>0</td>\n",
       "      <td>113803</td>\n",
       "      <td>53.1000</td>\n",
       "      <td>0.0</td>\n",
       "      <td>0.0</td>\n",
       "      <td>1.0</td>\n",
       "    </tr>\n",
       "    <tr>\n",
       "      <th>4</th>\n",
       "      <td>5</td>\n",
       "      <td>0</td>\n",
       "      <td>3</td>\n",
       "      <td>Allen, Mr. William Henry</td>\n",
       "      <td>1</td>\n",
       "      <td>35.0</td>\n",
       "      <td>0</td>\n",
       "      <td>0</td>\n",
       "      <td>373450</td>\n",
       "      <td>8.0500</td>\n",
       "      <td>0.0</td>\n",
       "      <td>0.0</td>\n",
       "      <td>1.0</td>\n",
       "    </tr>\n",
       "  </tbody>\n",
       "</table>\n",
       "</div>"
      ],
      "text/plain": [
       "   PassengerId  Survived  Pclass  \\\n",
       "0            1         0       3   \n",
       "1            2         1       1   \n",
       "2            3         1       3   \n",
       "3            4         1       1   \n",
       "4            5         0       3   \n",
       "\n",
       "                                                Name  Sex   Age  SibSp  Parch  \\\n",
       "0                            Braund, Mr. Owen Harris    1  22.0      1      0   \n",
       "1  Cumings, Mrs. John Bradley (Florence Briggs Th...    0  38.0      1      0   \n",
       "2                             Heikkinen, Miss. Laina    0  26.0      0      0   \n",
       "3       Futrelle, Mrs. Jacques Heath (Lily May Peel)    0  35.0      1      0   \n",
       "4                           Allen, Mr. William Henry    1  35.0      0      0   \n",
       "\n",
       "             Ticket     Fare  Embarked_C  Embarked_Q  Embarked_S  \n",
       "0         A/5 21171   7.2500         0.0         0.0         1.0  \n",
       "1          PC 17599  71.2833         1.0         0.0         0.0  \n",
       "2  STON/O2. 3101282   7.9250         0.0         0.0         1.0  \n",
       "3            113803  53.1000         0.0         0.0         1.0  \n",
       "4            373450   8.0500         0.0         0.0         1.0  "
      ]
     },
     "execution_count": 33,
     "metadata": {},
     "output_type": "execute_result"
    }
   ],
   "source": [
    "df_titanic.head()"
   ]
  },
  {
   "cell_type": "code",
   "execution_count": 34,
   "metadata": {
    "ExecuteTime": {
     "end_time": "2019-08-22T11:49:18.534755Z",
     "start_time": "2019-08-22T11:49:18.532452Z"
    }
   },
   "outputs": [],
   "source": [
    "df_titanic['Age']= ss_transformed"
   ]
  },
  {
   "cell_type": "code",
   "execution_count": 35,
   "metadata": {
    "ExecuteTime": {
     "end_time": "2019-08-22T11:49:18.547383Z",
     "start_time": "2019-08-22T11:49:18.536265Z"
    }
   },
   "outputs": [
    {
     "data": {
      "text/html": [
       "<div>\n",
       "<style scoped>\n",
       "    .dataframe tbody tr th:only-of-type {\n",
       "        vertical-align: middle;\n",
       "    }\n",
       "\n",
       "    .dataframe tbody tr th {\n",
       "        vertical-align: top;\n",
       "    }\n",
       "\n",
       "    .dataframe thead th {\n",
       "        text-align: right;\n",
       "    }\n",
       "</style>\n",
       "<table border=\"1\" class=\"dataframe\">\n",
       "  <thead>\n",
       "    <tr style=\"text-align: right;\">\n",
       "      <th></th>\n",
       "      <th>PassengerId</th>\n",
       "      <th>Survived</th>\n",
       "      <th>Pclass</th>\n",
       "      <th>Name</th>\n",
       "      <th>Sex</th>\n",
       "      <th>Age</th>\n",
       "      <th>SibSp</th>\n",
       "      <th>Parch</th>\n",
       "      <th>Ticket</th>\n",
       "      <th>Fare</th>\n",
       "      <th>Embarked_C</th>\n",
       "      <th>Embarked_Q</th>\n",
       "      <th>Embarked_S</th>\n",
       "    </tr>\n",
       "  </thead>\n",
       "  <tbody>\n",
       "    <tr>\n",
       "      <th>0</th>\n",
       "      <td>1</td>\n",
       "      <td>0</td>\n",
       "      <td>3</td>\n",
       "      <td>Braund, Mr. Owen Harris</td>\n",
       "      <td>1</td>\n",
       "      <td>-0.613822</td>\n",
       "      <td>1</td>\n",
       "      <td>0</td>\n",
       "      <td>A/5 21171</td>\n",
       "      <td>7.2500</td>\n",
       "      <td>0.0</td>\n",
       "      <td>0.0</td>\n",
       "      <td>1.0</td>\n",
       "    </tr>\n",
       "    <tr>\n",
       "      <th>1</th>\n",
       "      <td>2</td>\n",
       "      <td>1</td>\n",
       "      <td>1</td>\n",
       "      <td>Cumings, Mrs. John Bradley (Florence Briggs Th...</td>\n",
       "      <td>0</td>\n",
       "      <td>0.628572</td>\n",
       "      <td>1</td>\n",
       "      <td>0</td>\n",
       "      <td>PC 17599</td>\n",
       "      <td>71.2833</td>\n",
       "      <td>1.0</td>\n",
       "      <td>0.0</td>\n",
       "      <td>0.0</td>\n",
       "    </tr>\n",
       "    <tr>\n",
       "      <th>2</th>\n",
       "      <td>3</td>\n",
       "      <td>1</td>\n",
       "      <td>3</td>\n",
       "      <td>Heikkinen, Miss. Laina</td>\n",
       "      <td>0</td>\n",
       "      <td>-0.303223</td>\n",
       "      <td>0</td>\n",
       "      <td>0</td>\n",
       "      <td>STON/O2. 3101282</td>\n",
       "      <td>7.9250</td>\n",
       "      <td>0.0</td>\n",
       "      <td>0.0</td>\n",
       "      <td>1.0</td>\n",
       "    </tr>\n",
       "    <tr>\n",
       "      <th>3</th>\n",
       "      <td>4</td>\n",
       "      <td>1</td>\n",
       "      <td>1</td>\n",
       "      <td>Futrelle, Mrs. Jacques Heath (Lily May Peel)</td>\n",
       "      <td>0</td>\n",
       "      <td>0.395623</td>\n",
       "      <td>1</td>\n",
       "      <td>0</td>\n",
       "      <td>113803</td>\n",
       "      <td>53.1000</td>\n",
       "      <td>0.0</td>\n",
       "      <td>0.0</td>\n",
       "      <td>1.0</td>\n",
       "    </tr>\n",
       "    <tr>\n",
       "      <th>4</th>\n",
       "      <td>5</td>\n",
       "      <td>0</td>\n",
       "      <td>3</td>\n",
       "      <td>Allen, Mr. William Henry</td>\n",
       "      <td>1</td>\n",
       "      <td>0.395623</td>\n",
       "      <td>0</td>\n",
       "      <td>0</td>\n",
       "      <td>373450</td>\n",
       "      <td>8.0500</td>\n",
       "      <td>0.0</td>\n",
       "      <td>0.0</td>\n",
       "      <td>1.0</td>\n",
       "    </tr>\n",
       "  </tbody>\n",
       "</table>\n",
       "</div>"
      ],
      "text/plain": [
       "   PassengerId  Survived  Pclass  \\\n",
       "0            1         0       3   \n",
       "1            2         1       1   \n",
       "2            3         1       3   \n",
       "3            4         1       1   \n",
       "4            5         0       3   \n",
       "\n",
       "                                                Name  Sex       Age  SibSp  \\\n",
       "0                            Braund, Mr. Owen Harris    1 -0.613822      1   \n",
       "1  Cumings, Mrs. John Bradley (Florence Briggs Th...    0  0.628572      1   \n",
       "2                             Heikkinen, Miss. Laina    0 -0.303223      0   \n",
       "3       Futrelle, Mrs. Jacques Heath (Lily May Peel)    0  0.395623      1   \n",
       "4                           Allen, Mr. William Henry    1  0.395623      0   \n",
       "\n",
       "   Parch            Ticket     Fare  Embarked_C  Embarked_Q  Embarked_S  \n",
       "0      0         A/5 21171   7.2500         0.0         0.0         1.0  \n",
       "1      0          PC 17599  71.2833         1.0         0.0         0.0  \n",
       "2      0  STON/O2. 3101282   7.9250         0.0         0.0         1.0  \n",
       "3      0            113803  53.1000         0.0         0.0         1.0  \n",
       "4      0            373450   8.0500         0.0         0.0         1.0  "
      ]
     },
     "execution_count": 35,
     "metadata": {},
     "output_type": "execute_result"
    }
   ],
   "source": [
    "df_titanic.head()"
   ]
  },
  {
   "cell_type": "markdown",
   "metadata": {},
   "source": [
    "## MinMaxScaler\n",
    "Another technique used to scale data is [MinMaxScaler](https://scikit-learn.org/stable/modules/generated/sklearn.preprocessing.MinMaxScaler.html#sklearn.preprocessing.MinMaxScaler)\n",
    "- scaling each feature to a given range\n",
    "- *sensitive to outliers*\n",
    "\n",
    "Formal definition for MinMaxScaler is given by: $$ x'_i = \\frac{x_i-x_{min}}{x_{max} - x_{min}}$$"
   ]
  },
  {
   "cell_type": "markdown",
   "metadata": {},
   "source": [
    "**In a Nutshell:**\n",
    "\n",
    "**You probably won't go wrong if you use `StandardScaler` to scale your features.**"
   ]
  },
  {
   "cell_type": "markdown",
   "metadata": {},
   "source": [
    "## Ready up for modelling"
   ]
  },
  {
   "cell_type": "code",
   "execution_count": 36,
   "metadata": {
    "ExecuteTime": {
     "end_time": "2019-08-22T11:49:18.562010Z",
     "start_time": "2019-08-22T11:49:18.549203Z"
    }
   },
   "outputs": [
    {
     "data": {
      "text/html": [
       "<div>\n",
       "<style scoped>\n",
       "    .dataframe tbody tr th:only-of-type {\n",
       "        vertical-align: middle;\n",
       "    }\n",
       "\n",
       "    .dataframe tbody tr th {\n",
       "        vertical-align: top;\n",
       "    }\n",
       "\n",
       "    .dataframe thead th {\n",
       "        text-align: right;\n",
       "    }\n",
       "</style>\n",
       "<table border=\"1\" class=\"dataframe\">\n",
       "  <thead>\n",
       "    <tr style=\"text-align: right;\">\n",
       "      <th></th>\n",
       "      <th>Pclass</th>\n",
       "      <th>Sex</th>\n",
       "      <th>Age</th>\n",
       "      <th>SibSp</th>\n",
       "      <th>Parch</th>\n",
       "      <th>Fare</th>\n",
       "      <th>Embarked_C</th>\n",
       "      <th>Embarked_Q</th>\n",
       "      <th>Embarked_S</th>\n",
       "    </tr>\n",
       "  </thead>\n",
       "  <tbody>\n",
       "    <tr>\n",
       "      <th>0</th>\n",
       "      <td>3</td>\n",
       "      <td>1</td>\n",
       "      <td>-0.613822</td>\n",
       "      <td>1</td>\n",
       "      <td>0</td>\n",
       "      <td>7.2500</td>\n",
       "      <td>0.0</td>\n",
       "      <td>0.0</td>\n",
       "      <td>1.0</td>\n",
       "    </tr>\n",
       "    <tr>\n",
       "      <th>1</th>\n",
       "      <td>1</td>\n",
       "      <td>0</td>\n",
       "      <td>0.628572</td>\n",
       "      <td>1</td>\n",
       "      <td>0</td>\n",
       "      <td>71.2833</td>\n",
       "      <td>1.0</td>\n",
       "      <td>0.0</td>\n",
       "      <td>0.0</td>\n",
       "    </tr>\n",
       "    <tr>\n",
       "      <th>2</th>\n",
       "      <td>3</td>\n",
       "      <td>0</td>\n",
       "      <td>-0.303223</td>\n",
       "      <td>0</td>\n",
       "      <td>0</td>\n",
       "      <td>7.9250</td>\n",
       "      <td>0.0</td>\n",
       "      <td>0.0</td>\n",
       "      <td>1.0</td>\n",
       "    </tr>\n",
       "    <tr>\n",
       "      <th>3</th>\n",
       "      <td>1</td>\n",
       "      <td>0</td>\n",
       "      <td>0.395623</td>\n",
       "      <td>1</td>\n",
       "      <td>0</td>\n",
       "      <td>53.1000</td>\n",
       "      <td>0.0</td>\n",
       "      <td>0.0</td>\n",
       "      <td>1.0</td>\n",
       "    </tr>\n",
       "    <tr>\n",
       "      <th>4</th>\n",
       "      <td>3</td>\n",
       "      <td>1</td>\n",
       "      <td>0.395623</td>\n",
       "      <td>0</td>\n",
       "      <td>0</td>\n",
       "      <td>8.0500</td>\n",
       "      <td>0.0</td>\n",
       "      <td>0.0</td>\n",
       "      <td>1.0</td>\n",
       "    </tr>\n",
       "  </tbody>\n",
       "</table>\n",
       "</div>"
      ],
      "text/plain": [
       "   Pclass  Sex       Age  SibSp  Parch     Fare  Embarked_C  Embarked_Q  \\\n",
       "0       3    1 -0.613822      1      0   7.2500         0.0         0.0   \n",
       "1       1    0  0.628572      1      0  71.2833         1.0         0.0   \n",
       "2       3    0 -0.303223      0      0   7.9250         0.0         0.0   \n",
       "3       1    0  0.395623      1      0  53.1000         0.0         0.0   \n",
       "4       3    1  0.395623      0      0   8.0500         0.0         0.0   \n",
       "\n",
       "   Embarked_S  \n",
       "0         1.0  \n",
       "1         0.0  \n",
       "2         1.0  \n",
       "3         1.0  \n",
       "4         1.0  "
      ]
     },
     "execution_count": 36,
     "metadata": {},
     "output_type": "execute_result"
    }
   ],
   "source": [
    "df_target = df_titanic['Survived']\n",
    "# drop unwanted/redundant columns\n",
    "df_titanic.drop(['PassengerId', 'Survived','Name','Ticket'], axis=1, inplace=True)\n",
    "df_titanic.head()"
   ]
  },
  {
   "cell_type": "code",
   "execution_count": 37,
   "metadata": {
    "ExecuteTime": {
     "end_time": "2019-08-22T11:49:18.568568Z",
     "start_time": "2019-08-22T11:49:18.563795Z"
    }
   },
   "outputs": [
    {
     "data": {
      "text/plain": [
       "array([[ 3.        ,  1.        , -0.61382191, ...,  0.        ,\n",
       "         0.        ,  1.        ],\n",
       "       [ 1.        ,  0.        ,  0.62857237, ...,  1.        ,\n",
       "         0.        ,  0.        ],\n",
       "       [ 3.        ,  0.        , -0.30322334, ...,  0.        ,\n",
       "         0.        ,  1.        ],\n",
       "       ...,\n",
       "       [ 3.        ,  1.        ,  0.66739719, ...,  0.        ,\n",
       "         0.        ,  1.        ],\n",
       "       [ 3.        ,  1.        ,  0.00737523, ...,  0.        ,\n",
       "         0.        ,  1.        ],\n",
       "       [ 3.        ,  1.        ,  0.00737523, ...,  1.        ,\n",
       "         0.        ,  0.        ]])"
      ]
     },
     "execution_count": 37,
     "metadata": {},
     "output_type": "execute_result"
    }
   ],
   "source": [
    "X = np.array(df_titanic)\n",
    "X"
   ]
  },
  {
   "cell_type": "code",
   "execution_count": 38,
   "metadata": {
    "ExecuteTime": {
     "end_time": "2019-08-22T11:49:18.574668Z",
     "start_time": "2019-08-22T11:49:18.570251Z"
    }
   },
   "outputs": [
    {
     "data": {
      "text/plain": [
       "0     0\n",
       "1     1\n",
       "2     1\n",
       "3     1\n",
       "4     0\n",
       "5     0\n",
       "6     0\n",
       "7     0\n",
       "8     1\n",
       "9     1\n",
       "10    1\n",
       "11    1\n",
       "12    0\n",
       "13    0\n",
       "14    0\n",
       "15    1\n",
       "16    0\n",
       "17    1\n",
       "18    0\n",
       "19    1\n",
       "Name: Survived, dtype: int64"
      ]
     },
     "execution_count": 38,
     "metadata": {},
     "output_type": "execute_result"
    }
   ],
   "source": [
    "y = df_target\n",
    "y[:20]"
   ]
  },
  {
   "cell_type": "code",
   "execution_count": 46,
   "metadata": {
    "ExecuteTime": {
     "end_time": "2019-08-22T12:08:58.732901Z",
     "start_time": "2019-08-22T12:08:58.711744Z"
    }
   },
   "outputs": [],
   "source": [
    "# save for later user\n",
    "df_titanic.to_csv('./00_data/titanic_X.csv',index=False)\n",
    "y.to_csv('./00_data/titanic_y.csv', header=False, index=False)"
   ]
  },
  {
   "cell_type": "markdown",
   "metadata": {},
   "source": [
    "# Create a train-test split"
   ]
  },
  {
   "cell_type": "code",
   "execution_count": 36,
   "metadata": {
    "ExecuteTime": {
     "end_time": "2019-08-21T13:44:17.602079Z",
     "start_time": "2019-08-21T13:44:17.588856Z"
    }
   },
   "outputs": [],
   "source": [
    "from sklearn.model_selection import train_test_split\n",
    "X_train, X_test, y_train, y_test = train_test_split(X, y, test_size=0.2, random_state=0)"
   ]
  },
  {
   "cell_type": "code",
   "execution_count": 37,
   "metadata": {
    "ExecuteTime": {
     "end_time": "2019-08-21T13:44:17.607138Z",
     "start_time": "2019-08-21T13:44:17.603673Z"
    }
   },
   "outputs": [
    {
     "name": "stdout",
     "output_type": "stream",
     "text": [
      "X_train : (1047, 9)\n",
      "y_train : (1047,)\n",
      "X_test : (262, 9)\n",
      "y_test : (262,)\n"
     ]
    }
   ],
   "source": [
    "print('X_train : {}'.format(X_train.shape))\n",
    "print('y_train : {}'.format(y_train.shape))\n",
    "print('X_test : {}'.format(X_test.shape))\n",
    "print('y_test : {}'.format(y_test.shape))"
   ]
  },
  {
   "cell_type": "markdown",
   "metadata": {},
   "source": [
    "# Intro to our first model - Decision Trees\n",
    "- both classification or regression.\n",
    "- also outlier detection. \n",
    "\n",
    "The trained models resemble a tree, complete with branches and nodes. \n",
    "\n",
    "The model is essentially a series of questions with yes or no answers,\n",
    "- resulting tree structure contains all the combination of responses.\n",
    "\n",
    "Tree based models are popular:\n",
    "- mimic human decision making process, \n",
    "- work well for a large class of problems, \n",
    "- naturally handle multiclassification, and \n",
    "- handle a mix of categorical and numerical data. \n",
    "- easy to understand and explain : good explainability"
   ]
  },
  {
   "cell_type": "markdown",
   "metadata": {},
   "source": [
    "## Training decision tree classifiers\n",
    "The best way to understand a decision tree is to construct one and visualize it. We'll train a decision tree classifier on the iris data set and visualize the tree with the Graphviz package. The iris data set is a famous data set of 150 observations of three different iris species: setosa, versicolor, and virginica. Each observation has measurements of the petal length and width and sepal length and width, for a total of four features."
   ]
  },
  {
   "cell_type": "code",
   "execution_count": 38,
   "metadata": {
    "ExecuteTime": {
     "end_time": "2019-08-21T13:44:18.065638Z",
     "start_time": "2019-08-21T13:44:17.608792Z"
    }
   },
   "outputs": [
    {
     "data": {
      "image/svg+xml": [
       "<?xml version=\"1.0\" encoding=\"UTF-8\" standalone=\"no\"?>\n",
       "<!DOCTYPE svg PUBLIC \"-//W3C//DTD SVG 1.1//EN\"\n",
       " \"http://www.w3.org/Graphics/SVG/1.1/DTD/svg11.dtd\">\n",
       "<!-- Generated by graphviz version 2.40.1 (20161225.0304)\n",
       " -->\n",
       "<!-- Title: Tree Pages: 1 -->\n",
       "<svg width=\"497pt\" height=\"314pt\"\n",
       " viewBox=\"0.00 0.00 496.50 314.00\" xmlns=\"http://www.w3.org/2000/svg\" xmlns:xlink=\"http://www.w3.org/1999/xlink\">\n",
       "<g id=\"graph0\" class=\"graph\" transform=\"scale(1 1) rotate(0) translate(4 310)\">\n",
       "<title>Tree</title>\n",
       "<polygon fill=\"#ffffff\" stroke=\"transparent\" points=\"-4,4 -4,-310 492.5,-310 492.5,4 -4,4\"/>\n",
       "<!-- 0 -->\n",
       "<g id=\"node1\" class=\"node\">\n",
       "<title>0</title>\n",
       "<polygon fill=\"none\" stroke=\"#000000\" points=\"304,-306 184,-306 184,-223 304,-223 304,-306\"/>\n",
       "<text text-anchor=\"middle\" x=\"244\" y=\"-290.8\" font-family=\"Times,serif\" font-size=\"14.00\" fill=\"#000000\">Sex &lt;= 0.5</text>\n",
       "<text text-anchor=\"middle\" x=\"244\" y=\"-275.8\" font-family=\"Times,serif\" font-size=\"14.00\" fill=\"#000000\">gini = 0.461</text>\n",
       "<text text-anchor=\"middle\" x=\"244\" y=\"-260.8\" font-family=\"Times,serif\" font-size=\"14.00\" fill=\"#000000\">samples = 1047</text>\n",
       "<text text-anchor=\"middle\" x=\"244\" y=\"-245.8\" font-family=\"Times,serif\" font-size=\"14.00\" fill=\"#000000\">value = [669, 378]</text>\n",
       "<text text-anchor=\"middle\" x=\"244\" y=\"-230.8\" font-family=\"Times,serif\" font-size=\"14.00\" fill=\"#000000\">class = 0</text>\n",
       "</g>\n",
       "<!-- 1 -->\n",
       "<g id=\"node2\" class=\"node\">\n",
       "<title>1</title>\n",
       "<polygon fill=\"none\" stroke=\"#000000\" points=\"235.5,-187 122.5,-187 122.5,-104 235.5,-104 235.5,-187\"/>\n",
       "<text text-anchor=\"middle\" x=\"179\" y=\"-171.8\" font-family=\"Times,serif\" font-size=\"14.00\" fill=\"#000000\">Pclass &lt;= 2.5</text>\n",
       "<text text-anchor=\"middle\" x=\"179\" y=\"-156.8\" font-family=\"Times,serif\" font-size=\"14.00\" fill=\"#000000\">gini = 0.291</text>\n",
       "<text text-anchor=\"middle\" x=\"179\" y=\"-141.8\" font-family=\"Times,serif\" font-size=\"14.00\" fill=\"#000000\">samples = 345</text>\n",
       "<text text-anchor=\"middle\" x=\"179\" y=\"-126.8\" font-family=\"Times,serif\" font-size=\"14.00\" fill=\"#000000\">value = [61, 284]</text>\n",
       "<text text-anchor=\"middle\" x=\"179\" y=\"-111.8\" font-family=\"Times,serif\" font-size=\"14.00\" fill=\"#000000\">class = 1</text>\n",
       "</g>\n",
       "<!-- 0&#45;&gt;1 -->\n",
       "<g id=\"edge1\" class=\"edge\">\n",
       "<title>0&#45;&gt;1</title>\n",
       "<path fill=\"none\" stroke=\"#000000\" d=\"M221.2662,-222.8796C216.5435,-214.2335 211.5176,-205.0322 206.641,-196.1042\"/>\n",
       "<polygon fill=\"#000000\" stroke=\"#000000\" points=\"209.6963,-194.3964 201.8309,-187.2981 203.553,-197.752 209.6963,-194.3964\"/>\n",
       "<text text-anchor=\"middle\" x=\"194.7908\" y=\"-207.5864\" font-family=\"Times,serif\" font-size=\"14.00\" fill=\"#000000\">True</text>\n",
       "</g>\n",
       "<!-- 4 -->\n",
       "<g id=\"node5\" class=\"node\">\n",
       "<title>4</title>\n",
       "<polygon fill=\"none\" stroke=\"#000000\" points=\"366.5,-187 253.5,-187 253.5,-104 366.5,-104 366.5,-187\"/>\n",
       "<text text-anchor=\"middle\" x=\"310\" y=\"-171.8\" font-family=\"Times,serif\" font-size=\"14.00\" fill=\"#000000\">Age &lt;= &#45;2.05</text>\n",
       "<text text-anchor=\"middle\" x=\"310\" y=\"-156.8\" font-family=\"Times,serif\" font-size=\"14.00\" fill=\"#000000\">gini = 0.232</text>\n",
       "<text text-anchor=\"middle\" x=\"310\" y=\"-141.8\" font-family=\"Times,serif\" font-size=\"14.00\" fill=\"#000000\">samples = 702</text>\n",
       "<text text-anchor=\"middle\" x=\"310\" y=\"-126.8\" font-family=\"Times,serif\" font-size=\"14.00\" fill=\"#000000\">value = [608, 94]</text>\n",
       "<text text-anchor=\"middle\" x=\"310\" y=\"-111.8\" font-family=\"Times,serif\" font-size=\"14.00\" fill=\"#000000\">class = 0</text>\n",
       "</g>\n",
       "<!-- 0&#45;&gt;4 -->\n",
       "<g id=\"edge4\" class=\"edge\">\n",
       "<title>0&#45;&gt;4</title>\n",
       "<path fill=\"none\" stroke=\"#000000\" d=\"M267.0836,-222.8796C271.8789,-214.2335 276.9822,-205.0322 281.9338,-196.1042\"/>\n",
       "<polygon fill=\"#000000\" stroke=\"#000000\" points=\"285.0284,-197.7407 286.8179,-187.2981 278.9069,-194.3455 285.0284,-197.7407\"/>\n",
       "<text text-anchor=\"middle\" x=\"293.7031\" y=\"-207.6313\" font-family=\"Times,serif\" font-size=\"14.00\" fill=\"#000000\">False</text>\n",
       "</g>\n",
       "<!-- 2 -->\n",
       "<g id=\"node3\" class=\"node\">\n",
       "<title>2</title>\n",
       "<polygon fill=\"none\" stroke=\"#000000\" points=\"106,-68 0,-68 0,0 106,0 106,-68\"/>\n",
       "<text text-anchor=\"middle\" x=\"53\" y=\"-52.8\" font-family=\"Times,serif\" font-size=\"14.00\" fill=\"#000000\">gini = 0.073</text>\n",
       "<text text-anchor=\"middle\" x=\"53\" y=\"-37.8\" font-family=\"Times,serif\" font-size=\"14.00\" fill=\"#000000\">samples = 184</text>\n",
       "<text text-anchor=\"middle\" x=\"53\" y=\"-22.8\" font-family=\"Times,serif\" font-size=\"14.00\" fill=\"#000000\">value = [7, 177]</text>\n",
       "<text text-anchor=\"middle\" x=\"53\" y=\"-7.8\" font-family=\"Times,serif\" font-size=\"14.00\" fill=\"#000000\">class = 1</text>\n",
       "</g>\n",
       "<!-- 1&#45;&gt;2 -->\n",
       "<g id=\"edge2\" class=\"edge\">\n",
       "<title>1&#45;&gt;2</title>\n",
       "<path fill=\"none\" stroke=\"#000000\" d=\"M132.0823,-103.9815C121.3848,-94.5151 110.0244,-84.462 99.3508,-75.0168\"/>\n",
       "<polygon fill=\"#000000\" stroke=\"#000000\" points=\"101.5278,-72.2696 91.7195,-68.2637 96.8889,-77.5118 101.5278,-72.2696\"/>\n",
       "</g>\n",
       "<!-- 3 -->\n",
       "<g id=\"node4\" class=\"node\">\n",
       "<title>3</title>\n",
       "<polygon fill=\"none\" stroke=\"#000000\" points=\"237.5,-68 124.5,-68 124.5,0 237.5,0 237.5,-68\"/>\n",
       "<text text-anchor=\"middle\" x=\"181\" y=\"-52.8\" font-family=\"Times,serif\" font-size=\"14.00\" fill=\"#000000\">gini = 0.446</text>\n",
       "<text text-anchor=\"middle\" x=\"181\" y=\"-37.8\" font-family=\"Times,serif\" font-size=\"14.00\" fill=\"#000000\">samples = 161</text>\n",
       "<text text-anchor=\"middle\" x=\"181\" y=\"-22.8\" font-family=\"Times,serif\" font-size=\"14.00\" fill=\"#000000\">value = [54, 107]</text>\n",
       "<text text-anchor=\"middle\" x=\"181\" y=\"-7.8\" font-family=\"Times,serif\" font-size=\"14.00\" fill=\"#000000\">class = 1</text>\n",
       "</g>\n",
       "<!-- 1&#45;&gt;3 -->\n",
       "<g id=\"edge3\" class=\"edge\">\n",
       "<title>1&#45;&gt;3</title>\n",
       "<path fill=\"none\" stroke=\"#000000\" d=\"M179.7447,-103.9815C179.8947,-95.618 180.053,-86.7965 180.2046,-78.3409\"/>\n",
       "<polygon fill=\"#000000\" stroke=\"#000000\" points=\"183.7054,-78.3249 180.3854,-68.2637 176.7065,-78.1993 183.7054,-78.3249\"/>\n",
       "</g>\n",
       "<!-- 5 -->\n",
       "<g id=\"node6\" class=\"node\">\n",
       "<title>5</title>\n",
       "<polygon fill=\"none\" stroke=\"#000000\" points=\"357.5,-68 258.5,-68 258.5,0 357.5,0 357.5,-68\"/>\n",
       "<text text-anchor=\"middle\" x=\"308\" y=\"-52.8\" font-family=\"Times,serif\" font-size=\"14.00\" fill=\"#000000\">gini = 0.455</text>\n",
       "<text text-anchor=\"middle\" x=\"308\" y=\"-37.8\" font-family=\"Times,serif\" font-size=\"14.00\" fill=\"#000000\">samples = 20</text>\n",
       "<text text-anchor=\"middle\" x=\"308\" y=\"-22.8\" font-family=\"Times,serif\" font-size=\"14.00\" fill=\"#000000\">value = [7, 13]</text>\n",
       "<text text-anchor=\"middle\" x=\"308\" y=\"-7.8\" font-family=\"Times,serif\" font-size=\"14.00\" fill=\"#000000\">class = 1</text>\n",
       "</g>\n",
       "<!-- 4&#45;&gt;5 -->\n",
       "<g id=\"edge5\" class=\"edge\">\n",
       "<title>4&#45;&gt;5</title>\n",
       "<path fill=\"none\" stroke=\"#000000\" d=\"M309.2553,-103.9815C309.1053,-95.618 308.947,-86.7965 308.7954,-78.3409\"/>\n",
       "<polygon fill=\"#000000\" stroke=\"#000000\" points=\"312.2935,-78.1993 308.6146,-68.2637 305.2946,-78.3249 312.2935,-78.1993\"/>\n",
       "</g>\n",
       "<!-- 6 -->\n",
       "<g id=\"node7\" class=\"node\">\n",
       "<title>6</title>\n",
       "<polygon fill=\"none\" stroke=\"#000000\" points=\"488.5,-68 375.5,-68 375.5,0 488.5,0 488.5,-68\"/>\n",
       "<text text-anchor=\"middle\" x=\"432\" y=\"-52.8\" font-family=\"Times,serif\" font-size=\"14.00\" fill=\"#000000\">gini = 0.209</text>\n",
       "<text text-anchor=\"middle\" x=\"432\" y=\"-37.8\" font-family=\"Times,serif\" font-size=\"14.00\" fill=\"#000000\">samples = 682</text>\n",
       "<text text-anchor=\"middle\" x=\"432\" y=\"-22.8\" font-family=\"Times,serif\" font-size=\"14.00\" fill=\"#000000\">value = [601, 81]</text>\n",
       "<text text-anchor=\"middle\" x=\"432\" y=\"-7.8\" font-family=\"Times,serif\" font-size=\"14.00\" fill=\"#000000\">class = 0</text>\n",
       "</g>\n",
       "<!-- 4&#45;&gt;6 -->\n",
       "<g id=\"edge6\" class=\"edge\">\n",
       "<title>4&#45;&gt;6</title>\n",
       "<path fill=\"none\" stroke=\"#000000\" d=\"M355.4283,-103.9815C365.7861,-94.5151 376.7859,-84.462 387.1206,-75.0168\"/>\n",
       "<polygon fill=\"#000000\" stroke=\"#000000\" points=\"389.4893,-77.5935 394.5097,-68.2637 384.7669,-72.4264 389.4893,-77.5935\"/>\n",
       "</g>\n",
       "</g>\n",
       "</svg>\n"
      ],
      "text/plain": [
       "<graphviz.files.Source at 0x1a20c243c8>"
      ]
     },
     "execution_count": 38,
     "metadata": {},
     "output_type": "execute_result"
    }
   ],
   "source": [
    "import graphviz\n",
    "from sklearn.tree import export_graphviz\n",
    "\n",
    "## use DecisionTreeClassifier of depth 2. fit(X_train, y_train)\n",
    "\n",
    "# train decision tree\n",
    "tree\n",
    "\n",
    "\n",
    "# visual tree\n",
    "graphviz.Source(export_graphviz(tree, \n",
    "                                out_file=None,\n",
    "                                feature_names=np.array(df_titanic.columns.tolist()),\n",
    "                                class_names=np.array(['0','1'])))"
   ]
  },
  {
   "cell_type": "markdown",
   "metadata": {},
   "source": [
    "Note how the model resembles an upside down tree and each box represents a node in the tree. Printed in each box is\n",
    "\n",
    "* **samples**: the number of observations in the node.\n",
    "* **Gini**: a measure of node purity.\n",
    "* **value**: the distribution of observations in each class.\n",
    "* **class**: the most common label in the node.\n",
    "\n",
    "At the top of the tree is the __root node__. This node is _split_ to form two branches. Observations that satisfy the criterion printed at the top of the box are moved to one branch while the rest to the other. You can view a decision tree as a model that is making partitions in a space that contains your training data. The partitions are chosen to separate the different classes. For the tree displayed above, node splits were chosen to lead to an overall reduction of the Gini metric, discussed further in the next section. The nodes that do not branch off are called __terminal nodes__ or __leaves__.\n",
    "\n",
    "With a trained tree, predictions are made on an observation by starting at the root and following the path as a result of the criterion in each node. Once at a leaf, the predicted class is the class with the plurality. For example, if an observation has **sex** of 0 (<=0.5) and **pclass** of 0,1,2, it will reside in the left most leaf in the figure. \n",
    "\n",
    "Our trained tree model only makes splits using three features, **sex**, **pclass** and **age** making it easy to visualize our model."
   ]
  },
  {
   "cell_type": "markdown",
   "metadata": {
    "ExecuteTime": {
     "end_time": "2019-08-21T10:24:26.012569Z",
     "start_time": "2019-08-21T10:24:26.001937Z"
    }
   },
   "source": [
    "### Gini impurity\n",
    "- node impurity\n",
    "- probability of misclassifying an observation if it were randomly labeled\n",
    "\n",
    "DT will node split that result in reducing the Gini metric. The equation for the Gini impurity for node $m$ is\n",
    "\n",
    "$$ G_m = \\sum_k p_{mk} (1 - p_{mk}), $$\n",
    "\n",
    "where $p_{mk}$ is the fraction of observations of class $k$ in node $m$. \n",
    "\n",
    "Consider two cases where a node has 10 observations belonging to two classes:\n",
    "* Case 1: [5, 5]\n",
    "$$ G = \\frac{5}{10} \\left(1 - \\frac{5}{10}\\right) + \\frac{5}{10} \\left(1 - \\frac{5}{10}\\right) = 0.5 $$\n",
    "* Case 2: [10, 0]\n",
    "$$ G = \\frac{10}{10} \\left(1 - \\frac{10}{10}\\right) + \\frac{0}{10} \\left(1 - \\frac{0}{10}\\right) = 0 $$\n",
    "\n",
    "The greater the node purity, the lower the Gini metric. See the plot below of how Gini varies with $p_{mk}$ when there are two classes."
   ]
  },
  {
   "cell_type": "code",
   "execution_count": 12,
   "metadata": {
    "ExecuteTime": {
     "end_time": "2019-08-23T12:54:55.917883Z",
     "start_time": "2019-08-23T12:54:55.648673Z"
    }
   },
   "outputs": [
    {
     "data": {
      "image/png": "[encoded data removed]",
      "text/plain": [
       "<Figure size 1080x360 with 1 Axes>"
      ]
     },
     "metadata": {
      "needs_background": "light"
     },
     "output_type": "display_data"
    }
   ],
   "source": [
    "p = np.linspace(1E-6, 1-1E-6, 100)\n",
    "gini = p*(1-p) + (1-p)*p\n",
    "\n",
    "plt.plot(p, gini)\n",
    "plt.xlabel('$p$')\n",
    "plt.ylabel('Gini');"
   ]
  },
  {
   "cell_type": "markdown",
   "metadata": {},
   "source": [
    "### Entropy\n",
    "\n",
    "In chemistry, entropy is a measure of the amount of disorder in your system. \n",
    "\n",
    "The equation for entropy of node $m$ is\n",
    "\n",
    "$$ H_m = -\\sum_{k} p_{mk} \\log_2(p_{mk}).$$\n",
    "\n",
    "Using the same two cases as before when calculating the Gini metric, the entropy is equal to\n",
    "\n",
    "* Case 1: [5, 5]\n",
    "$$ H = -\\left[\\frac{5}{10} \\log_2 \\left(\\frac{5}{10}\\right) + \\frac{5}{10} \\log_2 \\left(\\frac{5}{10}\\right)\\right] = 1  $$\n",
    "* Case 2: [10, 0]\n",
    "$$ H = -\\left[\\frac{10}{10} \\log_2 \\left(\\frac{10}{10}\\right) + \\frac{0}{10} \\log_2 \\left(\\frac{0}{10}\\right)\\right] = 0 $$\n",
    "\n",
    "Similar to the Gini impurity, a more pure node will have lower entropy. Since entropy and Gini impurity are very similar metrics, using either will not make any substantial difference in your classifier. \n",
    "\n",
    "By default, the `DecisionTreeClassifier` class uses the Gini metric but can be switched to entropy by setting `criterion='entropy'`."
   ]
  },
  {
   "cell_type": "markdown",
   "metadata": {},
   "source": [
    "## Decision Tree Hyperparameters\n",
    "\n",
    "| Decision Tree Hyperparameters | Description |\n",
    "|:---:|---|\n",
    "|max_depth| The maximum depth of the tree |\n",
    "|max_features|The number of features to consider when deciding the best split|\n",
    "|min_samples_split|Minimum number of samples to consider a split on an internal node|\n",
    "|min_samples_leaf|Minimum number of samples required for a leaf (terminal node)|\n",
    "\n",
    "- `scikit-learn` documentation or notebook documentation"
   ]
  },
  {
   "cell_type": "markdown",
   "metadata": {},
   "source": [
    "## Putting it all together"
   ]
  },
  {
   "cell_type": "code",
   "execution_count": 40,
   "metadata": {
    "ExecuteTime": {
     "end_time": "2019-08-21T13:44:18.339353Z",
     "start_time": "2019-08-21T13:44:18.334997Z"
    }
   },
   "outputs": [],
   "source": [
    "## import DecisionTreeClassifier\n",
    "## define max_depth 3, max_features=2, min_split=10, min_leaf=20\n",
    "## dtc_fitted, dtc_pred, dtc_pred_proba\n",
    "\n",
    "\n"
   ]
  },
  {
   "cell_type": "code",
   "execution_count": 41,
   "metadata": {
    "ExecuteTime": {
     "end_time": "2019-08-21T13:44:18.344516Z",
     "start_time": "2019-08-21T13:44:18.340969Z"
    }
   },
   "outputs": [
    {
     "data": {
      "text/plain": [
       "array([1, 1, 0, 0, 1, 0, 0, 0, 1, 1, 0, 0, 1, 0, 1, 1, 1, 1, 1, 1, 0, 1,\n",
       "       1, 0, 1, 1, 1, 1, 1, 0, 0, 1, 0, 1, 1, 0, 0, 1, 1, 1, 1, 0, 1, 0,\n",
       "       0, 1, 1, 1, 1, 1, 1, 1, 0, 0, 1, 1, 1, 1, 0, 0, 1, 0, 0, 1, 0, 1,\n",
       "       0, 1, 0, 0, 0, 1, 0, 0, 0, 1, 0, 1, 1, 0, 1, 0, 1, 1, 1, 0, 1, 0,\n",
       "       0, 1, 0, 1, 0, 1, 0, 1, 1, 0, 0, 1, 0, 0, 0, 0, 0, 0, 1, 0, 1, 1,\n",
       "       1, 0, 0, 1, 0, 0, 1, 1, 1, 1, 1, 0, 0, 0, 1, 0, 0, 0, 1, 1, 0, 1,\n",
       "       0, 0, 1, 0, 0, 0, 1, 0, 1, 1, 1, 1, 1, 1, 0, 0, 0, 0, 0, 1, 1, 1,\n",
       "       1, 0, 1, 1, 1, 1, 1, 0, 0, 1, 0, 1, 0, 0, 0, 0, 0, 1, 0, 1, 1, 1,\n",
       "       0, 0, 1, 1, 0, 1, 0, 1, 1, 1, 1, 1, 1, 1, 1, 0, 0, 1, 0, 1, 1, 1,\n",
       "       1, 0, 0, 1, 0, 1, 1, 0, 1, 1, 1, 0, 0, 0, 1, 0, 1, 0, 1, 0, 0, 0,\n",
       "       0, 0, 1, 1, 0, 1, 0, 1, 1, 1, 0, 1, 1, 1, 0, 1, 1, 1, 1, 0, 1, 0,\n",
       "       1, 0, 0, 0, 1, 1, 1, 0, 1, 1, 1, 0, 1, 0, 1, 0, 0, 1, 1, 0])"
      ]
     },
     "execution_count": 41,
     "metadata": {},
     "output_type": "execute_result"
    }
   ],
   "source": [
    "dtc_pred"
   ]
  },
  {
   "cell_type": "code",
   "execution_count": 42,
   "metadata": {
    "ExecuteTime": {
     "end_time": "2019-08-21T13:44:18.353912Z",
     "start_time": "2019-08-21T13:44:18.345867Z"
    }
   },
   "outputs": [
    {
     "data": {
      "text/plain": [
       "array([[0.24242424, 0.75757576],\n",
       "       [0.24242424, 0.75757576],\n",
       "       [0.94339623, 0.05660377],\n",
       "       [0.94339623, 0.05660377],\n",
       "       [0.42105263, 0.57894737],\n",
       "       [0.85472155, 0.14527845],\n",
       "       [0.85472155, 0.14527845],\n",
       "       [0.94339623, 0.05660377],\n",
       "       [0.24242424, 0.75757576],\n",
       "       [0.24242424, 0.75757576],\n",
       "       [0.94339623, 0.05660377],\n",
       "       [0.94339623, 0.05660377],\n",
       "       [0.24242424, 0.75757576],\n",
       "       [0.85472155, 0.14527845],\n",
       "       [0.24242424, 0.75757576],\n",
       "       [0.42105263, 0.57894737],\n",
       "       [0.24242424, 0.75757576],\n",
       "       [0.42105263, 0.57894737],\n",
       "       [0.24242424, 0.75757576],\n",
       "       [0.24242424, 0.75757576],\n",
       "       [0.85472155, 0.14527845],\n",
       "       [0.24242424, 0.75757576],\n",
       "       [0.32786885, 0.67213115],\n",
       "       [0.85472155, 0.14527845],\n",
       "       [0.16666667, 0.83333333],\n",
       "       [0.24242424, 0.75757576],\n",
       "       [0.16666667, 0.83333333],\n",
       "       [0.24242424, 0.75757576],\n",
       "       [0.42105263, 0.57894737],\n",
       "       [0.94339623, 0.05660377],\n",
       "       [0.85472155, 0.14527845],\n",
       "       [0.42105263, 0.57894737],\n",
       "       [0.85472155, 0.14527845],\n",
       "       [0.42105263, 0.57894737],\n",
       "       [0.16666667, 0.83333333],\n",
       "       [0.85472155, 0.14527845],\n",
       "       [0.85472155, 0.14527845],\n",
       "       [0.42105263, 0.57894737],\n",
       "       [0.24242424, 0.75757576],\n",
       "       [0.42105263, 0.57894737],\n",
       "       [0.24242424, 0.75757576],\n",
       "       [0.85472155, 0.14527845],\n",
       "       [0.42105263, 0.57894737],\n",
       "       [0.85472155, 0.14527845],\n",
       "       [0.94339623, 0.05660377],\n",
       "       [0.32786885, 0.67213115],\n",
       "       [0.42105263, 0.57894737],\n",
       "       [0.24242424, 0.75757576],\n",
       "       [0.24242424, 0.75757576],\n",
       "       [0.32786885, 0.67213115],\n",
       "       [0.16666667, 0.83333333],\n",
       "       [0.24242424, 0.75757576],\n",
       "       [0.85472155, 0.14527845],\n",
       "       [0.94339623, 0.05660377],\n",
       "       [0.32786885, 0.67213115],\n",
       "       [0.32786885, 0.67213115],\n",
       "       [0.24242424, 0.75757576],\n",
       "       [0.16666667, 0.83333333],\n",
       "       [0.85472155, 0.14527845],\n",
       "       [0.85472155, 0.14527845],\n",
       "       [0.42105263, 0.57894737],\n",
       "       [0.85472155, 0.14527845],\n",
       "       [0.85472155, 0.14527845],\n",
       "       [0.42105263, 0.57894737],\n",
       "       [0.94339623, 0.05660377],\n",
       "       [0.32786885, 0.67213115],\n",
       "       [0.94339623, 0.05660377],\n",
       "       [0.32786885, 0.67213115],\n",
       "       [0.94339623, 0.05660377],\n",
       "       [0.85472155, 0.14527845],\n",
       "       [0.85472155, 0.14527845],\n",
       "       [0.16666667, 0.83333333],\n",
       "       [0.85472155, 0.14527845],\n",
       "       [0.94339623, 0.05660377],\n",
       "       [0.94339623, 0.05660377],\n",
       "       [0.24242424, 0.75757576],\n",
       "       [0.94339623, 0.05660377],\n",
       "       [0.24242424, 0.75757576],\n",
       "       [0.24242424, 0.75757576],\n",
       "       [0.85472155, 0.14527845],\n",
       "       [0.32786885, 0.67213115],\n",
       "       [0.94339623, 0.05660377],\n",
       "       [0.24242424, 0.75757576],\n",
       "       [0.24242424, 0.75757576],\n",
       "       [0.24242424, 0.75757576],\n",
       "       [0.94339623, 0.05660377],\n",
       "       [0.24242424, 0.75757576],\n",
       "       [0.85472155, 0.14527845],\n",
       "       [0.85472155, 0.14527845],\n",
       "       [0.24242424, 0.75757576],\n",
       "       [0.85472155, 0.14527845],\n",
       "       [0.42105263, 0.57894737],\n",
       "       [0.94339623, 0.05660377],\n",
       "       [0.24242424, 0.75757576],\n",
       "       [0.94339623, 0.05660377],\n",
       "       [0.24242424, 0.75757576],\n",
       "       [0.24242424, 0.75757576],\n",
       "       [0.85472155, 0.14527845],\n",
       "       [0.94339623, 0.05660377],\n",
       "       [0.16666667, 0.83333333],\n",
       "       [0.94339623, 0.05660377],\n",
       "       [0.94339623, 0.05660377],\n",
       "       [0.94339623, 0.05660377],\n",
       "       [0.85472155, 0.14527845],\n",
       "       [0.85472155, 0.14527845],\n",
       "       [0.94339623, 0.05660377],\n",
       "       [0.42105263, 0.57894737],\n",
       "       [0.85472155, 0.14527845],\n",
       "       [0.24242424, 0.75757576],\n",
       "       [0.16666667, 0.83333333],\n",
       "       [0.24242424, 0.75757576],\n",
       "       [0.85472155, 0.14527845],\n",
       "       [0.85472155, 0.14527845],\n",
       "       [0.24242424, 0.75757576],\n",
       "       [0.85472155, 0.14527845],\n",
       "       [0.85472155, 0.14527845],\n",
       "       [0.42105263, 0.57894737],\n",
       "       [0.16666667, 0.83333333],\n",
       "       [0.42105263, 0.57894737],\n",
       "       [0.42105263, 0.57894737],\n",
       "       [0.24242424, 0.75757576],\n",
       "       [0.94339623, 0.05660377],\n",
       "       [0.85472155, 0.14527845],\n",
       "       [0.85472155, 0.14527845],\n",
       "       [0.16666667, 0.83333333],\n",
       "       [0.94339623, 0.05660377],\n",
       "       [0.85472155, 0.14527845],\n",
       "       [0.85472155, 0.14527845],\n",
       "       [0.32786885, 0.67213115],\n",
       "       [0.24242424, 0.75757576],\n",
       "       [0.85472155, 0.14527845],\n",
       "       [0.24242424, 0.75757576],\n",
       "       [0.85472155, 0.14527845],\n",
       "       [0.85472155, 0.14527845],\n",
       "       [0.24242424, 0.75757576],\n",
       "       [0.94339623, 0.05660377],\n",
       "       [0.85472155, 0.14527845],\n",
       "       [0.85472155, 0.14527845],\n",
       "       [0.24242424, 0.75757576],\n",
       "       [0.94339623, 0.05660377],\n",
       "       [0.42105263, 0.57894737],\n",
       "       [0.32786885, 0.67213115],\n",
       "       [0.21212121, 0.78787879],\n",
       "       [0.24242424, 0.75757576],\n",
       "       [0.24242424, 0.75757576],\n",
       "       [0.16666667, 0.83333333],\n",
       "       [0.85472155, 0.14527845],\n",
       "       [0.94339623, 0.05660377],\n",
       "       [0.94339623, 0.05660377],\n",
       "       [0.85472155, 0.14527845],\n",
       "       [0.85472155, 0.14527845],\n",
       "       [0.24242424, 0.75757576],\n",
       "       [0.21212121, 0.78787879],\n",
       "       [0.21212121, 0.78787879],\n",
       "       [0.24242424, 0.75757576],\n",
       "       [0.94339623, 0.05660377],\n",
       "       [0.32786885, 0.67213115],\n",
       "       [0.42105263, 0.57894737],\n",
       "       [0.24242424, 0.75757576],\n",
       "       [0.42105263, 0.57894737],\n",
       "       [0.24242424, 0.75757576],\n",
       "       [0.94339623, 0.05660377],\n",
       "       [0.94339623, 0.05660377],\n",
       "       [0.24242424, 0.75757576],\n",
       "       [0.85472155, 0.14527845],\n",
       "       [0.42105263, 0.57894737],\n",
       "       [0.85472155, 0.14527845],\n",
       "       [0.85472155, 0.14527845],\n",
       "       [0.94339623, 0.05660377],\n",
       "       [0.85472155, 0.14527845],\n",
       "       [0.94339623, 0.05660377],\n",
       "       [0.24242424, 0.75757576],\n",
       "       [0.85472155, 0.14527845],\n",
       "       [0.32786885, 0.67213115],\n",
       "       [0.24242424, 0.75757576],\n",
       "       [0.16666667, 0.83333333],\n",
       "       [0.94339623, 0.05660377],\n",
       "       [0.85472155, 0.14527845],\n",
       "       [0.24242424, 0.75757576],\n",
       "       [0.42105263, 0.57894737],\n",
       "       [0.94339623, 0.05660377],\n",
       "       [0.32786885, 0.67213115],\n",
       "       [0.94339623, 0.05660377],\n",
       "       [0.16666667, 0.83333333],\n",
       "       [0.24242424, 0.75757576],\n",
       "       [0.32786885, 0.67213115],\n",
       "       [0.24242424, 0.75757576],\n",
       "       [0.21212121, 0.78787879],\n",
       "       [0.42105263, 0.57894737],\n",
       "       [0.42105263, 0.57894737],\n",
       "       [0.32786885, 0.67213115],\n",
       "       [0.85472155, 0.14527845],\n",
       "       [0.85472155, 0.14527845],\n",
       "       [0.32786885, 0.67213115],\n",
       "       [0.94339623, 0.05660377],\n",
       "       [0.24242424, 0.75757576],\n",
       "       [0.42105263, 0.57894737],\n",
       "       [0.32786885, 0.67213115],\n",
       "       [0.42105263, 0.57894737],\n",
       "       [0.94339623, 0.05660377],\n",
       "       [0.94339623, 0.05660377],\n",
       "       [0.16666667, 0.83333333],\n",
       "       [0.85472155, 0.14527845],\n",
       "       [0.24242424, 0.75757576],\n",
       "       [0.24242424, 0.75757576],\n",
       "       [0.85472155, 0.14527845],\n",
       "       [0.24242424, 0.75757576],\n",
       "       [0.32786885, 0.67213115],\n",
       "       [0.16666667, 0.83333333],\n",
       "       [0.85472155, 0.14527845],\n",
       "       [0.85472155, 0.14527845],\n",
       "       [0.94339623, 0.05660377],\n",
       "       [0.16666667, 0.83333333],\n",
       "       [0.94339623, 0.05660377],\n",
       "       [0.16666667, 0.83333333],\n",
       "       [0.94339623, 0.05660377],\n",
       "       [0.24242424, 0.75757576],\n",
       "       [0.94339623, 0.05660377],\n",
       "       [0.85472155, 0.14527845],\n",
       "       [0.94339623, 0.05660377],\n",
       "       [0.94339623, 0.05660377],\n",
       "       [0.94339623, 0.05660377],\n",
       "       [0.21212121, 0.78787879],\n",
       "       [0.42105263, 0.57894737],\n",
       "       [0.85472155, 0.14527845],\n",
       "       [0.16666667, 0.83333333],\n",
       "       [0.94339623, 0.05660377],\n",
       "       [0.24242424, 0.75757576],\n",
       "       [0.24242424, 0.75757576],\n",
       "       [0.32786885, 0.67213115],\n",
       "       [0.85472155, 0.14527845],\n",
       "       [0.42105263, 0.57894737],\n",
       "       [0.24242424, 0.75757576],\n",
       "       [0.24242424, 0.75757576],\n",
       "       [0.85472155, 0.14527845],\n",
       "       [0.24242424, 0.75757576],\n",
       "       [0.24242424, 0.75757576],\n",
       "       [0.16666667, 0.83333333],\n",
       "       [0.24242424, 0.75757576],\n",
       "       [0.85472155, 0.14527845],\n",
       "       [0.24242424, 0.75757576],\n",
       "       [0.85472155, 0.14527845],\n",
       "       [0.42105263, 0.57894737],\n",
       "       [0.94339623, 0.05660377],\n",
       "       [0.94339623, 0.05660377],\n",
       "       [0.94339623, 0.05660377],\n",
       "       [0.16666667, 0.83333333],\n",
       "       [0.24242424, 0.75757576],\n",
       "       [0.24242424, 0.75757576],\n",
       "       [0.85472155, 0.14527845],\n",
       "       [0.24242424, 0.75757576],\n",
       "       [0.42105263, 0.57894737],\n",
       "       [0.24242424, 0.75757576],\n",
       "       [0.85472155, 0.14527845],\n",
       "       [0.24242424, 0.75757576],\n",
       "       [0.85472155, 0.14527845],\n",
       "       [0.24242424, 0.75757576],\n",
       "       [0.94339623, 0.05660377],\n",
       "       [0.85472155, 0.14527845],\n",
       "       [0.24242424, 0.75757576],\n",
       "       [0.24242424, 0.75757576],\n",
       "       [0.85472155, 0.14527845]])"
      ]
     },
     "execution_count": 42,
     "metadata": {},
     "output_type": "execute_result"
    }
   ],
   "source": [
    "dtc_pred_proba"
   ]
  },
  {
   "cell_type": "code",
   "execution_count": 43,
   "metadata": {
    "ExecuteTime": {
     "end_time": "2019-08-21T13:44:18.373107Z",
     "start_time": "2019-08-21T13:44:18.355578Z"
    }
   },
   "outputs": [
    {
     "name": "stdout",
     "output_type": "stream",
     "text": [
      "Accuracy : 0.8091603053435115\n",
      "Precision : 0.7291666666666666\n",
      "Recall : 0.9051724137931034\n",
      "F1-score : 0.8076923076923076\n",
      "Classification Report:\n",
      "              precision    recall  f1-score   support\n",
      "\n",
      "           0       0.91      0.73      0.81       146\n",
      "           1       0.73      0.91      0.81       116\n",
      "\n",
      "    accuracy                           0.81       262\n",
      "   macro avg       0.82      0.82      0.81       262\n",
      "weighted avg       0.83      0.81      0.81       262\n",
      "\n",
      "Precision-Recall AUC: 0.7252986774814107\n",
      "Receiver-Operator AUC: 0.8423181388757675\n"
     ]
    }
   ],
   "source": [
    "print('Accuracy : {}'.format(metrics.accuracy_score(y_true=y_test, y_pred=dtc_pred)))\n",
    "print('Precision : {}'.format(metrics.precision_score(y_test, dtc_pred)))\n",
    "print('Recall : {}'.format(metrics.recall_score(y_test, dtc_pred)))\n",
    "print('F1-score : {}'.format(metrics.f1_score(y_test, dtc_pred)))\n",
    "print(\"Classification Report:\")\n",
    "print(metrics.classification_report(y_test, dtc_pred))\n",
    "precision, recall, threshold = metrics.precision_recall_curve(y_test, dtc_pred_proba[:,1])\n",
    "print(\"Precision-Recall AUC: {}\".format(metrics.auc(recall, precision)))\n",
    "print(\"Receiver-Operator AUC: {}\".format(metrics.roc_auc_score(y_test, dtc_pred_proba[:,1])))"
   ]
  },
  {
   "cell_type": "markdown",
   "metadata": {},
   "source": [
    "# Save and export your fitted model"
   ]
  },
  {
   "cell_type": "code",
   "execution_count": 44,
   "metadata": {
    "ExecuteTime": {
     "end_time": "2019-08-21T13:44:18.378606Z",
     "start_time": "2019-08-21T13:44:18.375324Z"
    }
   },
   "outputs": [],
   "source": [
    "import pickle\n",
    "filename = 'finalized_model.pkl'\n",
    "pickle.dump(dtc_fitted, open(filename, 'wb'))"
   ]
  },
  {
   "cell_type": "code",
   "execution_count": null,
   "metadata": {},
   "outputs": [],
   "source": []
  }
 ],
 "metadata": {
  "hide_input": false,
  "kernelspec": {
   "display_name": "Python 3",
   "language": "python",
   "name": "python3"
  },
  "language_info": {
   "codemirror_mode": {
    "name": "ipython",
    "version": 3
   },
   "file_extension": ".py",
   "mimetype": "text/x-python",
   "name": "python",
   "nbconvert_exporter": "python",
   "pygments_lexer": "ipython3",
   "version": "3.7.3"
  },
  "nbclean": true,
  "toc": {
   "base_numbering": 1,
   "nav_menu": {
    "height": "166px",
    "width": "288px"
   },
   "number_sections": true,
   "sideBar": true,
   "skip_h1_title": false,
   "title_cell": "Table of Contents",
   "title_sidebar": "Contents",
   "toc_cell": false,
   "toc_position": {
    "height": "calc(100% - 180px)",
    "left": "10px",
    "top": "150px",
    "width": "304px"
   },
   "toc_section_display": true,
   "toc_window_display": true
  }
 },
 "nbformat": 4,
 "nbformat_minor": 1
}
