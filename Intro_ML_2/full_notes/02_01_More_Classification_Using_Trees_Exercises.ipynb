{
 "cells": [
  {
   "cell_type": "markdown",
   "metadata": {},
   "source": [
    "# Exercise 1:"
   ]
  },
  {
   "cell_type": "code",
   "execution_count": null,
   "metadata": {
    "ExecuteTime": {
     "end_time": "2019-09-30T14:21:55.741668Z",
     "start_time": "2019-09-30T14:21:55.724792Z"
    }
   },
   "outputs": [],
   "source": [
    "import pandas as pd\n",
    "import numpy as np\n",
    "df_dietanic = pd.read_csv('./00_data/dietanic.csv')\n",
    "df_dietanic.head()"
   ]
  },
  {
   "cell_type": "code",
   "execution_count": null,
   "metadata": {
    "ExecuteTime": {
     "end_time": "2019-09-30T14:21:55.885297Z",
     "start_time": "2019-09-30T14:21:55.881084Z"
    }
   },
   "outputs": [],
   "source": [
    "X = df_dietanic.drop(['Survival'], axis=1)\n",
    "y = df_dietanic['Survival']"
   ]
  },
  {
   "cell_type": "code",
   "execution_count": null,
   "metadata": {
    "ExecuteTime": {
     "end_time": "2019-09-30T14:21:56.041981Z",
     "start_time": "2019-09-30T14:21:56.037441Z"
    }
   },
   "outputs": [],
   "source": [
    "from sklearn.model_selection import train_test_split\n",
    "X_train, X_test, y_train, y_test = train_test_split(X, y, test_size = 0.2, random_state=55)"
   ]
  },
  {
   "cell_type": "markdown",
   "metadata": {},
   "source": [
    "# Exercise 2:"
   ]
  },
  {
   "cell_type": "code",
   "execution_count": null,
   "metadata": {
    "ExecuteTime": {
     "end_time": "2019-09-30T14:21:56.434215Z",
     "start_time": "2019-09-30T14:21:56.431605Z"
    }
   },
   "outputs": [],
   "source": [
    "from sklearn.tree import DecisionTreeClassifier\n",
    "from sklearn.metrics import f1_score"
   ]
  },
  {
   "cell_type": "code",
   "execution_count": null,
   "metadata": {
    "ExecuteTime": {
     "end_time": "2019-09-30T14:21:56.766059Z",
     "start_time": "2019-09-30T14:21:56.757723Z"
    }
   },
   "outputs": [],
   "source": [
    "dtc0 = DecisionTreeClassifier(max_depth=3, random_state=55)\n",
    "dtc0.fit(X_train, y_train)\n",
    "y_pred0 = dtc0.predict(X_test)\n",
    "dtc0_score = f1_score(y_test, y_pred0)\n",
    "print('DTC - Max Depth {}, F1-score {}'.format(3, dtc0_score))"
   ]
  },
  {
   "cell_type": "code",
   "execution_count": null,
   "metadata": {
    "ExecuteTime": {
     "end_time": "2019-09-30T14:22:12.969203Z",
     "start_time": "2019-09-30T14:22:12.959189Z"
    }
   },
   "outputs": [],
   "source": [
    "MAX_DEPTH = 15\n",
    "dtc0 = DecisionTreeClassifier(max_depth=MAX_DEPTH, random_state=55)\n",
    "dtc0.fit(X_train, y_train)\n",
    "y_pred0 = dtc0.predict(X_test)\n",
    "dtc0_score = f1_score(y_test, y_pred0)\n",
    "print('DTC - Max Depth {}, F1-score {}'.format(MAX_DEPTH, dtc0_score))"
   ]
  },
  {
   "cell_type": "code",
   "execution_count": null,
   "metadata": {
    "ExecuteTime": {
     "end_time": "2019-09-30T14:22:17.795235Z",
     "start_time": "2019-09-30T14:22:17.785828Z"
    }
   },
   "outputs": [],
   "source": [
    "MAX_DEPTH = 40\n",
    "dtc0 = DecisionTreeClassifier(max_depth=MAX_DEPTH, random_state=55)\n",
    "dtc0.fit(X_train, y_train)\n",
    "y_pred0 = dtc0.predict(X_test)\n",
    "dtc0_score = f1_score(y_test, y_pred0)\n",
    "print('DTC - Max Depth {}, F1-score {}'.format(MAX_DEPTH, dtc0_score))"
   ]
  },
  {
   "cell_type": "markdown",
   "metadata": {},
   "source": [
    "# Exercise 3:"
   ]
  },
  {
   "cell_type": "code",
   "execution_count": null,
   "metadata": {
    "ExecuteTime": {
     "end_time": "2019-09-30T14:26:10.362558Z",
     "start_time": "2019-09-30T14:26:10.178079Z"
    }
   },
   "outputs": [],
   "source": [
    "from sklearn.model_selection import GridSearchCV\n",
    "\n",
    "dtc = DecisionTreeClassifier()\n",
    "\n",
    "grid_search = {'max_depth' : range(5,26,5),\n",
    "               'min_samples_split' : [2,6,10],\n",
    "               'max_features' : ['auto'],\n",
    "               'random_state' : [55]\n",
    "              }\n",
    "\n",
    "grid = GridSearchCV(dtc,\n",
    "                    grid_search,\n",
    "                    cv=5,\n",
    "                    n_jobs=15,\n",
    "                    scoring='f1',\n",
    "                    verbose=1)\n",
    "grid.fit(X_train, y_train)"
   ]
  },
  {
   "cell_type": "code",
   "execution_count": null,
   "metadata": {
    "ExecuteTime": {
     "end_time": "2019-09-30T14:26:12.735748Z",
     "start_time": "2019-09-30T14:26:12.732252Z"
    }
   },
   "outputs": [],
   "source": [
    "print('Best estimator : {} '.format(grid.best_estimator_))"
   ]
  },
  {
   "cell_type": "markdown",
   "metadata": {},
   "source": [
    "# Exercise 4:"
   ]
  },
  {
   "cell_type": "code",
   "execution_count": null,
   "metadata": {
    "ExecuteTime": {
     "end_time": "2019-09-30T14:28:15.953503Z",
     "start_time": "2019-09-30T14:28:15.931574Z"
    }
   },
   "outputs": [],
   "source": [
    "from sklearn.ensemble import RandomForestClassifier\n",
    "rfc = RandomForestClassifier()\n",
    "rfc.fit(X_train, y_train)\n",
    "rfc_pred = rfc.predict(X_test)\n",
    "rfc_score = f1_score(y_test, rfc_pred)\n",
    "print('RFC F1-score {}'.format(rfc_score))"
   ]
  },
  {
   "cell_type": "markdown",
   "metadata": {},
   "source": [
    "# Exercis 5:"
   ]
  },
  {
   "cell_type": "code",
   "execution_count": null,
   "metadata": {
    "ExecuteTime": {
     "end_time": "2019-09-30T14:29:35.693347Z",
     "start_time": "2019-09-30T14:29:35.671783Z"
    }
   },
   "outputs": [],
   "source": [
    "from sklearn.ensemble import GradientBoostingClassifier\n",
    "gbc = RandomForestClassifier()\n",
    "gbc.fit(X_train, y_train)\n",
    "gbc_pred = gbc.predict(X_test)\n",
    "gbc_score = f1_score(y_test, gbc_pred)\n",
    "print('GBC F1-score {}'.format(gbc_score))"
   ]
  },
  {
   "cell_type": "code",
   "execution_count": null,
   "metadata": {},
   "outputs": [],
   "source": []
  }
 ],
 "metadata": {
  "hide_input": false,
  "kernelspec": {
   "display_name": "Python 3",
   "language": "python",
   "name": "python3"
  },
  "language_info": {
   "codemirror_mode": {
    "name": "ipython",
    "version": 3
   },
   "file_extension": ".py",
   "mimetype": "text/x-python",
   "name": "python",
   "nbconvert_exporter": "python",
   "pygments_lexer": "ipython3",
   "version": "3.7.3"
  },
  "toc": {
   "base_numbering": 1,
   "nav_menu": {},
   "number_sections": true,
   "sideBar": true,
   "skip_h1_title": false,
   "title_cell": "Table of Contents",
   "title_sidebar": "Contents",
   "toc_cell": false,
   "toc_position": {},
   "toc_section_display": true,
   "toc_window_display": false
  }
 },
 "nbformat": 4,
 "nbformat_minor": 2
}
